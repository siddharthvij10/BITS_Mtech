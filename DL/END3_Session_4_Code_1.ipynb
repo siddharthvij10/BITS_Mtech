{
  "nbformat": 4,
  "nbformat_minor": 0,
  "metadata": {
    "colab": {
      "provenance": [],
      "machine_shape": "hm"
    },
    "kernelspec": {
      "name": "python3",
      "display_name": "Python 3"
    },
    "language_info": {
      "name": "python"
    }
  },
  "cells": [
    {
      "cell_type": "code",
      "metadata": {
        "id": "-FqTdISLdD56"
      },
      "source": [
        "import pandas as pd\n",
        "df = pd.read_csv('/content/tweets-1.csv')"
      ],
      "execution_count": 121,
      "outputs": []
    },
    {
      "cell_type": "code",
      "metadata": {
        "colab": {
          "base_uri": "https://localhost:8080/",
          "height": 206
        },
        "id": "G_X0Ulef94R4",
        "outputId": "7e3fb19b-5fe9-4383-d99b-4f99e33cee05"
      },
      "source": [
        "df.head()"
      ],
      "execution_count": 122,
      "outputs": [
        {
          "output_type": "execute_result",
          "data": {
            "text/plain": [
              "                                              tweets  labels\n",
              "0  Obama has called the GOP budget social Darwini...       1\n",
              "1  In his teen years, Obama has been known to use...       0\n",
              "2  IPA Congratulates President Barack Obama for L...       0\n",
              "3  RT @Professor_Why: #WhatsRomneyHiding - his co...       0\n",
              "4  RT @wardollarshome: Obama has approved more ta...       1"
            ],
            "text/html": [
              "\n",
              "  <div id=\"df-d610d22a-5355-4425-89b7-eb624a16cc2a\">\n",
              "    <div class=\"colab-df-container\">\n",
              "      <div>\n",
              "<style scoped>\n",
              "    .dataframe tbody tr th:only-of-type {\n",
              "        vertical-align: middle;\n",
              "    }\n",
              "\n",
              "    .dataframe tbody tr th {\n",
              "        vertical-align: top;\n",
              "    }\n",
              "\n",
              "    .dataframe thead th {\n",
              "        text-align: right;\n",
              "    }\n",
              "</style>\n",
              "<table border=\"1\" class=\"dataframe\">\n",
              "  <thead>\n",
              "    <tr style=\"text-align: right;\">\n",
              "      <th></th>\n",
              "      <th>tweets</th>\n",
              "      <th>labels</th>\n",
              "    </tr>\n",
              "  </thead>\n",
              "  <tbody>\n",
              "    <tr>\n",
              "      <th>0</th>\n",
              "      <td>Obama has called the GOP budget social Darwini...</td>\n",
              "      <td>1</td>\n",
              "    </tr>\n",
              "    <tr>\n",
              "      <th>1</th>\n",
              "      <td>In his teen years, Obama has been known to use...</td>\n",
              "      <td>0</td>\n",
              "    </tr>\n",
              "    <tr>\n",
              "      <th>2</th>\n",
              "      <td>IPA Congratulates President Barack Obama for L...</td>\n",
              "      <td>0</td>\n",
              "    </tr>\n",
              "    <tr>\n",
              "      <th>3</th>\n",
              "      <td>RT @Professor_Why: #WhatsRomneyHiding - his co...</td>\n",
              "      <td>0</td>\n",
              "    </tr>\n",
              "    <tr>\n",
              "      <th>4</th>\n",
              "      <td>RT @wardollarshome: Obama has approved more ta...</td>\n",
              "      <td>1</td>\n",
              "    </tr>\n",
              "  </tbody>\n",
              "</table>\n",
              "</div>\n",
              "      <button class=\"colab-df-convert\" onclick=\"convertToInteractive('df-d610d22a-5355-4425-89b7-eb624a16cc2a')\"\n",
              "              title=\"Convert this dataframe to an interactive table.\"\n",
              "              style=\"display:none;\">\n",
              "        \n",
              "  <svg xmlns=\"http://www.w3.org/2000/svg\" height=\"24px\"viewBox=\"0 0 24 24\"\n",
              "       width=\"24px\">\n",
              "    <path d=\"M0 0h24v24H0V0z\" fill=\"none\"/>\n",
              "    <path d=\"M18.56 5.44l.94 2.06.94-2.06 2.06-.94-2.06-.94-.94-2.06-.94 2.06-2.06.94zm-11 1L8.5 8.5l.94-2.06 2.06-.94-2.06-.94L8.5 2.5l-.94 2.06-2.06.94zm10 10l.94 2.06.94-2.06 2.06-.94-2.06-.94-.94-2.06-.94 2.06-2.06.94z\"/><path d=\"M17.41 7.96l-1.37-1.37c-.4-.4-.92-.59-1.43-.59-.52 0-1.04.2-1.43.59L10.3 9.45l-7.72 7.72c-.78.78-.78 2.05 0 2.83L4 21.41c.39.39.9.59 1.41.59.51 0 1.02-.2 1.41-.59l7.78-7.78 2.81-2.81c.8-.78.8-2.07 0-2.86zM5.41 20L4 18.59l7.72-7.72 1.47 1.35L5.41 20z\"/>\n",
              "  </svg>\n",
              "      </button>\n",
              "      \n",
              "  <style>\n",
              "    .colab-df-container {\n",
              "      display:flex;\n",
              "      flex-wrap:wrap;\n",
              "      gap: 12px;\n",
              "    }\n",
              "\n",
              "    .colab-df-convert {\n",
              "      background-color: #E8F0FE;\n",
              "      border: none;\n",
              "      border-radius: 50%;\n",
              "      cursor: pointer;\n",
              "      display: none;\n",
              "      fill: #1967D2;\n",
              "      height: 32px;\n",
              "      padding: 0 0 0 0;\n",
              "      width: 32px;\n",
              "    }\n",
              "\n",
              "    .colab-df-convert:hover {\n",
              "      background-color: #E2EBFA;\n",
              "      box-shadow: 0px 1px 2px rgba(60, 64, 67, 0.3), 0px 1px 3px 1px rgba(60, 64, 67, 0.15);\n",
              "      fill: #174EA6;\n",
              "    }\n",
              "\n",
              "    [theme=dark] .colab-df-convert {\n",
              "      background-color: #3B4455;\n",
              "      fill: #D2E3FC;\n",
              "    }\n",
              "\n",
              "    [theme=dark] .colab-df-convert:hover {\n",
              "      background-color: #434B5C;\n",
              "      box-shadow: 0px 1px 3px 1px rgba(0, 0, 0, 0.15);\n",
              "      filter: drop-shadow(0px 1px 2px rgba(0, 0, 0, 0.3));\n",
              "      fill: #FFFFFF;\n",
              "    }\n",
              "  </style>\n",
              "\n",
              "      <script>\n",
              "        const buttonEl =\n",
              "          document.querySelector('#df-d610d22a-5355-4425-89b7-eb624a16cc2a button.colab-df-convert');\n",
              "        buttonEl.style.display =\n",
              "          google.colab.kernel.accessAllowed ? 'block' : 'none';\n",
              "\n",
              "        async function convertToInteractive(key) {\n",
              "          const element = document.querySelector('#df-d610d22a-5355-4425-89b7-eb624a16cc2a');\n",
              "          const dataTable =\n",
              "            await google.colab.kernel.invokeFunction('convertToInteractive',\n",
              "                                                     [key], {});\n",
              "          if (!dataTable) return;\n",
              "\n",
              "          const docLinkHtml = 'Like what you see? Visit the ' +\n",
              "            '<a target=\"_blank\" href=https://colab.research.google.com/notebooks/data_table.ipynb>data table notebook</a>'\n",
              "            + ' to learn more about interactive tables.';\n",
              "          element.innerHTML = '';\n",
              "          dataTable['output_type'] = 'display_data';\n",
              "          await google.colab.output.renderOutput(dataTable, element);\n",
              "          const docLink = document.createElement('div');\n",
              "          docLink.innerHTML = docLinkHtml;\n",
              "          element.appendChild(docLink);\n",
              "        }\n",
              "      </script>\n",
              "    </div>\n",
              "  </div>\n",
              "  "
            ]
          },
          "metadata": {},
          "execution_count": 122
        }
      ]
    },
    {
      "cell_type": "code",
      "metadata": {
        "colab": {
          "base_uri": "https://localhost:8080/"
        },
        "id": "ZD6pGhoo954D",
        "outputId": "9a9d3a13-e81e-4d70-fad6-12a978133f49"
      },
      "source": [
        "df.shape"
      ],
      "execution_count": 123,
      "outputs": [
        {
          "output_type": "execute_result",
          "data": {
            "text/plain": [
              "(1364, 2)"
            ]
          },
          "metadata": {},
          "execution_count": 123
        }
      ]
    },
    {
      "cell_type": "code",
      "metadata": {
        "colab": {
          "base_uri": "https://localhost:8080/"
        },
        "id": "UehmqGNh9_wW",
        "outputId": "5d9afd9e-0eff-4fc3-ae34-ef7dc9236faf"
      },
      "source": [
        "df.labels.value_counts()"
      ],
      "execution_count": 124,
      "outputs": [
        {
          "output_type": "execute_result",
          "data": {
            "text/plain": [
              "0    931\n",
              "1    352\n",
              "2     81\n",
              "Name: labels, dtype: int64"
            ]
          },
          "metadata": {},
          "execution_count": 124
        }
      ]
    },
    {
      "cell_type": "code",
      "metadata": {
        "colab": {
          "base_uri": "https://localhost:8080/"
        },
        "id": "2893qVJ9-CSJ",
        "outputId": "32e9aa69-681e-439d-8730-d7e04552d127"
      },
      "source": [
        "# !pip install torch --quiet\n",
        "# !pip uninstall torchtext -y\n",
        "# !pip install torchtext==0.9.0 --quiet\n",
        "\n",
        "\n",
        "# Import Library\n",
        "import random\n",
        "import torch, torchtext\n",
        "from torchtext.legacy import data \n",
        "\n",
        "# Manual Seed\n",
        "SEED = 43\n",
        "torch.manual_seed(SEED)"
      ],
      "execution_count": 125,
      "outputs": [
        {
          "output_type": "execute_result",
          "data": {
            "text/plain": [
              "<torch._C.Generator at 0x7fafd188bb10>"
            ]
          },
          "metadata": {},
          "execution_count": 125
        }
      ]
    },
    {
      "cell_type": "code",
      "metadata": {
        "id": "e3f91wQA-Npd",
        "outputId": "d546d76a-ca97-417f-cd08-7e8efc6871d0",
        "colab": {
          "base_uri": "https://localhost:8080/"
        }
      },
      "source": [
        "Tweet = data.Field(sequential = True, tokenize = 'spacy', batch_first =True, include_lengths=True)  # sequential means data is sequential and tokenization is required\n",
        "Label = data.LabelField(tokenize ='spacy', is_target=True, batch_first =True, sequential =False)"
      ],
      "execution_count": 126,
      "outputs": [
        {
          "output_type": "stream",
          "name": "stderr",
          "text": [
            "/usr/local/lib/python3.8/dist-packages/torchtext/data/utils.py:123: UserWarning: Spacy model \"en\" could not be loaded, trying \"en_core_web_sm\" instead\n",
            "  warnings.warn(f'Spacy model \"{language}\" could not be loaded, trying \"{OLD_MODEL_SHORTCUTS[language]}\" instead')\n"
          ]
        }
      ]
    },
    {
      "cell_type": "code",
      "metadata": {
        "id": "MR9xJOWO-Rvs",
        "outputId": "69284667-1c4a-49e8-ffc4-01027c451f99",
        "colab": {
          "base_uri": "https://localhost:8080/"
        }
      },
      "source": [
        "fields = [('tweets', Tweet),('labels',Label)]\n",
        "fields"
      ],
      "execution_count": 127,
      "outputs": [
        {
          "output_type": "execute_result",
          "data": {
            "text/plain": [
              "[('tweets', <torchtext.legacy.data.field.Field at 0x7faef898cbb0>),\n",
              " ('labels', <torchtext.legacy.data.field.LabelField at 0x7faef86d5fd0>)]"
            ]
          },
          "metadata": {},
          "execution_count": 127
        }
      ]
    },
    {
      "cell_type": "code",
      "metadata": {
        "id": "G4CjL4sJ-Z3H",
        "outputId": "8220ee3b-5401-4d4d-8f87-82caddb25249",
        "colab": {
          "base_uri": "https://localhost:8080/"
        }
      },
      "source": [
        "example = [data.Example.fromlist([df.tweets[i],df.labels[i]], fields) for i in range(df.shape[0])]   # data.example defines a single training or test example.Stores each column of the example as an attribute.\n",
        "len(example)"
      ],
      "execution_count": 128,
      "outputs": [
        {
          "output_type": "execute_result",
          "data": {
            "text/plain": [
              "1364"
            ]
          },
          "metadata": {},
          "execution_count": 128
        }
      ]
    },
    {
      "cell_type": "code",
      "metadata": {
        "id": "IYS1SeKf-go1",
        "outputId": "09c0e5da-c8e8-45af-a9d0-9fd3228014ed",
        "colab": {
          "base_uri": "https://localhost:8080/"
        }
      },
      "source": [
        "twitterDataset = data.Dataset(example, fields)  # Defines a dataset composed of Examples along with its Fields.\n",
        "twitterDataset"
      ],
      "execution_count": 129,
      "outputs": [
        {
          "output_type": "execute_result",
          "data": {
            "text/plain": [
              "<torchtext.legacy.data.dataset.Dataset at 0x7faef633cd60>"
            ]
          },
          "metadata": {},
          "execution_count": 129
        }
      ]
    },
    {
      "cell_type": "code",
      "metadata": {
        "id": "BE1o0aAW-ipl"
      },
      "source": [
        "(train, valid) = twitterDataset.split(split_ratio=[0.85, 0.15], random_state=random.seed(SEED))"
      ],
      "execution_count": 130,
      "outputs": []
    },
    {
      "cell_type": "code",
      "metadata": {
        "colab": {
          "base_uri": "https://localhost:8080/"
        },
        "id": "sr8fGbh7-j0R",
        "outputId": "635eeb5e-15fa-4ee0-9b40-1f6603ce0729"
      },
      "source": [
        "(len(train), len(valid))\n",
        "# len(valid.examples)"
      ],
      "execution_count": 131,
      "outputs": [
        {
          "output_type": "execute_result",
          "data": {
            "text/plain": [
              "(1159, 205)"
            ]
          },
          "metadata": {},
          "execution_count": 131
        }
      ]
    },
    {
      "cell_type": "code",
      "metadata": {
        "colab": {
          "base_uri": "https://localhost:8080/"
        },
        "id": "8jCP5LQj-k-_",
        "outputId": "94f1d09d-1889-46cc-fe69-93b396314a10"
      },
      "source": [
        "# type(vars((train.examples[10])))\n",
        "(vars(train.examples[10]))"
      ],
      "execution_count": 132,
      "outputs": [
        {
          "output_type": "execute_result",
          "data": {
            "text/plain": [
              "{'tweets': ['Obama',\n",
              "  ',',\n",
              "  'Romney',\n",
              "  'agree',\n",
              "  ':',\n",
              "  'Admit',\n",
              "  'women',\n",
              "  'to',\n",
              "  'Augusta',\n",
              "  'golf',\n",
              "  'club',\n",
              "  ':',\n",
              "  'US',\n",
              "  'President',\n",
              "  'Barack',\n",
              "  'Obama',\n",
              "  'believes',\n",
              "  'women',\n",
              "  'should',\n",
              "  'be',\n",
              "  'allowe',\n",
              "  '...',\n",
              "  'http://t.co/PVKrepqI'],\n",
              " 'labels': 0}"
            ]
          },
          "metadata": {},
          "execution_count": 132
        }
      ]
    },
    {
      "cell_type": "code",
      "metadata": {
        "id": "iy0v5Ymp-pQc"
      },
      "source": [
        "Tweet.build_vocab(train)\n",
        "Label.build_vocab(train)"
      ],
      "execution_count": 133,
      "outputs": []
    },
    {
      "cell_type": "code",
      "metadata": {
        "colab": {
          "base_uri": "https://localhost:8080/"
        },
        "id": "xqXNEJBy-tfZ",
        "outputId": "ecacaa6c-c3b0-49aa-f0af-994ec2ef306c"
      },
      "source": [
        "print('Size of input vocab : ', len(Tweet.vocab))\n",
        "print('Size of label vocab : ', len(Label.vocab))\n",
        "print('Top 10 words appreared repeatedly :', list(Tweet.vocab.freqs.most_common(10)))\n",
        "print('Labels : ', Label.vocab.stoi)\n",
        "print('Labels : ', Tweet.vocab.stoi)\n"
      ],
      "execution_count": 134,
      "outputs": [
        {
          "output_type": "stream",
          "name": "stdout",
          "text": [
            "Size of input vocab :  4653\n",
            "Size of label vocab :  3\n",
            "Top 10 words appreared repeatedly : [('Obama', 1069), (':', 781), ('#', 780), ('.', 761), (',', 598), ('\"', 550), ('the', 542), ('RT', 516), ('?', 419), ('to', 400)]\n",
            "Labels :  defaultdict(None, {0: 0, 1: 1, 2: 2})\n",
            "Labels :  defaultdict(<bound method Vocab._default_unk_index of <torchtext.vocab.Vocab object at 0x7faef762c280>>, {'<unk>': 0, '<pad>': 1, 'Obama': 2, ':': 3, '#': 4, '.': 5, ',': 6, '\"': 7, 'the': 8, 'RT': 9, '?': 10, 'to': 11, \"'s\": 12, 'of': 13, 'a': 14, 'you': 15, 'is': 16, '!': 17, 'with': 18, '-': 19, 'in': 20, 'on': 21, 'and': 22, 'I': 23, 'kid': 24, 'for': 25, '...': 26, 'he': 27, 'that': 28, 'WhatsRomneyHiding': 29, 'from': 30, 'do': 31, 'like': 32, ' ': 33, 'his': 34, 'Romney': 35, 'have': 36, 'President': 37, 'You': 38, 'So': 39, 'go': 40, \"'re\": 41, 'American': 42, 'Do': 43, 'at': 44, 'has': 45, 'cool': 46, '&': 47, 'British': 48, 'Mcdonalds': 49, 'Ohhh': 50, 'UK': 51, 'Queen': 52, 'tea': 53, '@ohgirlphrase': 54, 'not': 55, 'it': 56, \"'\": 57, 'GOP': 58, 'can': 59, \"n't\": 60, 'The': 61, 'be': 62, 'Barack': 63, 'obama': 64, 'tcot': 65, 'we': 66, 'will': 67, 'years': 68, 'Pres': 69, 'says': 70, 'are': 71, 'so': 72, 'about': 73, 'via': 74, 'was': 75, '@edshow': 76, 'but': 77, 'all': 78, 'In': 79, '%': 80, '(': 81, ')': 82, '@markknoller': 83, 'Mitt': 84, 'A': 85, 'just': 86, 'Court': 87, 'That': 88, 'wait': 89, 'Michelle': 90, 'get': 91, 'if': 92, 'who': 93, 'this': 94, 'Harvard': 95, 'campaign': 96, 'OBAMA': 97, 'US': 98, 'been': 99, 'they': 100, 'women': 101, 'any': 102, 'how': 103, 'Iran': 104, 'Oh': 105, 'up': 106, '2012': 107, 'If': 108, 'Is': 109, 'Supreme': 110, 'edshow': 111, 'p2': 112, 'time': 113, 'too': 114, 'use': 115, 'would': 116, '2': 117, '4': 118, 'by': 119, 'debate': 120, 'know': 121, 'should': 122, 'your': 123, ';': 124, 'He': 125, 'budget': 126, 'college': 127, 'now': 128, 'really': 129, 'as': 130, 'social': 131, 'It': 132, 'This': 133, 'believe': 134, 'my': 135, 'need': 136, 'tax': 137, 'what': 138, '$': 139, '..': 140, 'Americans': 141, 'i': 142, 'known': 143, 'were': 144, \"'d\": 145, 'Augusta': 146, 'cocaine': 147, 'going': 148, 'him': 149, 'marijuana': 150, 'or': 151, 'out': 152, 'teen': 153, 'more': 154, 'our': 155, \"'m\": 156, 'Act': 157, 'law': 158, 'most': 159, 'records': 160, 'say': 161, 'why': 162, 'Budget': 163, 'U.S.': 164, 'again': 165, 'an': 166, 'important': 167, 'much': 168, 'over': 169, 'than': 170, 'think': 171, 'tlot': 172, 'white': 173, '|': 174, '/': 175, '@JeffersonObama': 176, 'How': 177, 'Israel': 178, 'To': 179, 'does': 180, 'gas': 181, 'make': 182, 'one': 183, 'House': 184, 'Syria': 185, 'did': 186, 'president': 187, 'when': 188, 'America': 189, 'Campaign': 190, 'His': 191, 'big': 192, 'hiding': 193, 'returns': 194, 'JOBS': 195, 'What': 196, 'back': 197, 'fun': 198, 'into': 199, 'me': 200, 'nuke': 201, 'person': 202, 'support': 203, '....': 204, 'Holder': 205, 'No': 206, 'States': 207, 'With': 208, 'am': 209, 'before': 210, 'birth': 211, 'bully': 212, 'call': 213, 'good': 214, 'issue': 215, 'passed': 216, 'spending': 217, 'tweet': 218, 'whatsromneyhiding': 219, '*': 220, 'And': 221, 'For': 222, 'Harry': 223, 'Ignatius': 224, 'Muslim': 225, 'United': 226, 'We': 227, 'Why': 228, 'Women': 229, 'care': 230, 'certificate': 231, 'golf': 232, 'had': 233, 'hope': 234, 'let': 235, 'public': 236, 'signaled': 237, 'talking': 238, 'teaparty': 239, 'them': 240, 'thug': 241, 'truth': 242, '=': 243, '@MittRomney': 244, 'accept': 245, 'ca': 246, 'called': 247, 'could': 248, 'de': 249, 'only': 250, 'smart': 251, 'then': 252, 'things': 253, 'vote': 254, 'want': 255, '@BarackObama': 256, '@thinkprogress': 257, 'AT': 258, 'Darwinism': 259, 'National': 260, 'News': 261, 'Nice': 262, 'Says': 263, '[': 264, ']': 265, 'because': 266, 'blasts': 267, 'creationism': 268, 'degrees': 269, 'fundraiser': 270, 'got': 271, 'man': 272, 'name': 273, 'nt': 274, 'people': 275, 'right': 276, 'share': 277, 'side': 278, 'still': 279, 'there': 280, 'transcripts': 281, 'try': 282, 'two': 283, '62': 284, '@youtube': 285, 'Administration': 286, 'Bill': 287, 'Brotherhood': 288, 'Comment': 289, 'FB': 290, 'From': 291, 'THE': 292, 'against': 293, 'come': 294, 'ever': 295, 'health': 296, 'http://t.co/avbgNT57': 297, 'lol': 298, 'never': 299, 'ocra': 300, 'record': 301, 'respect': 302, 'said': 303, 'sgp': 304, 'signs': 305, 'trying': 306, \"'ll\": 307, '@DrewMTips': 308, 'Easter': 309, 'Haaretz': 310, 'Jews': 311, 'KimKardashiansNextBoyFriend': 312, 'Law': 313, 'NOT': 314, 'Saul': 315, 'White': 316, 'always': 317, 'comments': 318, 'country': 319, 'court': 320, 'denounced': 321, 'dumb': 322, 'el': 323, 'election': 324, 'else': 325, 'first': 326, 'four': 327, 'government': 328, 'her': 329, 'icymi': 330, 'interest': 331, 'its': 332, 'no': 333, 'reelect': 334, 'see': 335, 'take': 336, 'tonight': 337, 'understand': 338, \"''\": 339, '23': 340, '@TPO_Hisself': 341, '@Talkmaster': 342, '@handrewschwartz': 343, '@kesgardner': 344, '@wcptersn': 345, 'Anticipation': 346, 'Arianna': 347, 'But': 348, 'Congress': 349, 'Constitutional': 350, 'Continues': 351, 'DC': 352, 'Eric': 353, 'Gagme': 354, 'HE': 355, 'Huffington': 356, 'Like': 357, 'Lindsay': 358, 'Lohan': 359, 'My': 360, 'Not': 361, 'One': 362, 'Party': 363, 'Respects': 364, 'Secret': 365, 'Signs': 366, 'State': 367, 'USA': 368, 'Violence': 369, 'Washington': 370, 'Who': 371, '^': 372, 'agree': 373, 'another': 374, 'bad': 375, 'between': 376, 'blasting': 377, 'chance': 378, 'como': 379, 'conflicts': 380, 'even': 381, 'explains': 382, 'feel': 383, 'gives': 384, 'history': 385, 'hot': 386, 'http://t.co/Ov6I5CoS': 387, 'http://t.co/VhURDtdO': 388, 'http://t.co/gIGmn5kE': 389, 'issues': 390, 'jobs': 391, 'libertario': 392, 'menaces': 393, 'next': 394, 'off': 395, 'officials': 396, 'pic': 397, 'praising': 398, 'prices': 399, 'real': 400, 'reports': 401, 'shorthand': 402, 'term': 403, 'these': 404, 'under': 405, 'w': 406, 'wants': 407, 'way': 408, 'wonder': 409, '--': 410, '1000': 411, '@AddThis': 412, '@BelleInABow': 413, '@Professor_Why': 414, '@WhatTheFFacts': 415, 'Bush': 416, 'Democrats': 417, 'HBO': 418, 'Jobs': 419, 'Khameni': 420, 'New': 421, 'Of': 422, 'Review': 423, 'Senate': 424, 'Top': 425, 'War': 426, 'Will': 427, 'anti': 428, 'anything': 429, 'assess': 430, 'assure': 431, 'better': 432, 'boys': 433, 'business': 434, 'certtain': 435, 'civ': 436, 'class': 437, 'clear': 438, 'club': 439, 'coffee': 440, 'course': 441, 'deserves': 442, 'documentary': 443, 'economic': 444, 'end': 445, 'favorite': 446, 'federal': 447, 'great': 448, 'guess': 449, 'http://t.co/KkaAhGPq': 450, 'invited': 451, 'look': 452, 'meets': 453, 'new': 454, 'nukes': 455, 'party': 456, 'pgm': 457, 'plan': 458, 'program': 459, 'release': 460, 'run': 461, 's': 462, 'sayd': 463, 'seen': 464, 'some': 465, 'state': 466, 'tweets': 467, 'unemployment': 468, 'upset': 469, 'video': 470, 'weapons': 471, 'win': 472, 'wld': 473, 'world': 474, 'wrong': 475, '2019': 476, '@Messina2012': 477, '@baseballcrank': 478, '@blakehounshell': 479, 'Another': 480, 'As': 481, 'By': 482, 'Constitution': 483, 'Election': 484, 'G-8': 485, 'IS': 486, 'KCA': 487, 'Koch': 488, 'M': 489, 'Obama2012': 490, 'Putin': 491, 'RUMORS': 492, 'Righties': 493, 'STYLES': 494, 'Santorum': 495, 'TCOT': 496, 'They': 497, 'Time': 498, 'Trayvon': 499, 'Video': 500, 'administration': 501, 'after': 502, 'anyone': 503, 'beat': 504, 'broker': 505, 'change': 506, 'cont': 507, 'deal': 508, 'debt': 509, 'destroy': 510, 'doing': 511, 'fact': 512, 'give': 513, 'hearings': 514, 'l0l': 515, 'la': 516, 'less': 517, 'los': 518, 'money': 519, 'month': 520, 'other': 521, 'policies': 522, 'refuses': 523, 'report': 524, 'romney': 525, 'same': 526, 'sorry': 527, 'start': 528, 'summit': 529, 'those': 530, 'tpp': 531, 'us': 532, 'very': 533, 'votes': 534, 'where': 535, 'which': 536, 'withnewt': 537, 'wo': 538, '  ': 539, \"'ve\": 540, '1': 541, ':)': 542, '@': 543, '@Harry_Styles': 544, '@LouTommoBum': 545, '@djtechchicago': 546, 'Birth': 547, 'Can': 548, 'Caught': 549, 'Defense': 550, 'Did': 551, 'Even': 552, 'Examiner': 553, 'Exceed': 554, 'First': 555, 'Get': 556, 'Green': 557, 'Him': 558, 'Interest': 559, 'Iranian': 560, 'Khamenei': 561, 'Likely': 562, 'Look': 563, 'NDAA': 564, 'OF': 565, 'Online': 566, 'Our': 567, 'Payments': 568, 'Post': 569, 'REAL': 570, 'Release': 571, 'Republican': 572, 'Ryan': 573, 'Styles': 574, 'TO': 575, 'Tell': 576, 'absolutely': 577, 'agreement': 578, 'al': 579, 'ass': 580, 'assets': 581, 'backstage': 582, 'being': 583, 'believes': 584, 'black': 585, 'blame': 586, 'brother': 587, 'case': 588, 'civilian': 589, 'claim': 590, 'conservatives': 591, 'demand': 592, 'distract': 593, 'everyone': 594, 'failed': 595, 'future': 596, 'goes': 597, 'gop': 598, 'gt': 599, 'guy': 600, 'heard': 601, 'here': 602, 'http://t.co/svxFPoHq': 603, 'lame': 604, 'lot': 605, 'love': 606, 'making': 607, 'media': 608, 'michelle': 609, 'million': 610, 'move': 611, 'news': 612, 'nuclear': 613, 'para': 614, 'policy': 615, 'pursue': 616, 'push': 617, 'read': 618, 'reason': 619, 'since': 620, 'someone': 621, 'something': 622, 'sure': 623, 'tells': 624, 'thing': 625, 'trending': 626, 'trillion': 627, 'twitter': 628, 'una': 629, 'until': 630, 'voters': 631, 'well': 632, 'while': 633, 'work': 634, 'yet': 635, '10': 636, '18': 637, '200': 638, '3': 639, '@BORNCURIOUS': 640, '@GEsfandiari': 641, '@HarryFacts1D': 642, '@PAC43': 643, '@addthis': 644, '@anna12061': 645, '@geoff9cow': 646, '@obama': 647, 'AM': 648, 'AND': 649, 'Acts': 650, 'Advantage': 651, 'Alinsky': 652, 'Anti': 653, 'Autopen': 654, 'Bible': 655, 'Blanca': 656, 'CAMINO': 657, 'Ca': 658, 'Casa': 659, 'Chicago': 660, 'Clearance': 661, 'Concedes': 662, 'Courts': 663, 'Dim': 664, 'EN': 665, 'EPA': 666, 'ESCONDE': 667, 'ESPOSA': 668, 'Editorial': 669, 'Egypt': 670, 'En': 671, 'Everything': 672, 'Fraud': 673, 'Full': 674, 'Giving': 675, 'Go': 676, 'HIJOS': 677, 'Hiring': 678, 'Interesting': 679, 'Into': 680, 'JOE': 681, 'Jim': 682, 'Just': 683, 'Kid': 684, 'Lady': 685, 'MSM': 686, 'Misquotes': 687, 'Missing': 688, 'Napolitano': 689, 'Nope': 690, 'Obamacare': 691, 'Oil': 692, 'Pakistan': 693, 'Paul': 694, 'Politics': 695, 'Press': 696, 'Redistribution': 697, 'Rick': 698, 'Right': 699, 'Security': 700, 'Signing': 701, 'Speaking': 702, 'TREASON': 703, 'TU': 704, 'TUS': 705, 'Terrorist': 706, 'Thanks': 707, 'Think': 708, 'VIENE': 709, 'WH': 710, 'Wealth': 711, 'WhatsObamaHiding': 712, 'Wo': 713, 'World': 714, 'Y': 715, 'Yahoo': 716, 'administra': 717, 'affairs': 718, 'ago': 719, 'also': 720, 'appeals': 721, 'around': 722, 'atractiva': 723, 'attractive': 724, 'best': 725, 'bill': 726, 'blaming': 727, 'both': 728, 'bowling': 729, 'branches': 730, 'calling': 731, 'calls': 732, 'card': 733, 'cause': 734, 'certain': 735, 'citizensunited': 736, 'clean': 737, 'coal': 738, 'connection': 739, 'courier': 740, 'crap': 741, 'decided': 742, 'defense': 743, 'demanded': 744, 'describe': 745, 'desde': 746, 'desperate': 747, 'details': 748, 'disclosing': 749, 'donation': 750, 'down': 751, 'drawing': 752, 'economy': 753, 'either': 754, 'elected': 755, 'en': 756, 'fault': 757, 'find': 758, 'found': 759, 'game': 760, 'gay': 761, 'gon': 762, 'governing': 763, 'gun': 764, 'hacia': 765, 'haha': 766, 'half': 767, 'hashtag': 768, 'hedges': 769, 'hell': 770, 'high': 771, 'higher': 772, 'hoo': 773, 'hosts': 774, 'http://t.co/zneCZUTo': 775, 'illegal': 776, 'incl': 777, 'income': 778, 'incompetent': 779, 'industry': 780, 'job': 781, 'kids': 782, 'killed': 783, 'le': 784, 'letter': 785, 'line': 786, 'lnyhbt': 787, 'mean': 788, 'missing': 789, 'mocks': 790, 'mujer': 791, 'must': 792, 'muy': 793, 'needs': 794, 'office': 795, 'ongoing': 796, 'ordenar': 797, 'others': 798, 'pick': 799, 'pissed': 800, 'pizza': 801, 'politics': 802, 'pregunto': 803, 'price': 804, 'proud': 805, 'racist': 806, 'rate': 807, 'released': 808, 'rights': 809, 'sanctions': 810, 'secret': 811, 'seizing': 812, 'single': 813, 'small': 814, 'socialist': 815, 'son': 816, 'sport': 817, 'stands': 818, 'states': 819, 'student': 820, 'stuff': 821, 'stupid': 822, 'supporter': 823, 'swing': 824, 'ta': 825, 'tactics': 826, 'tag': 827, 'their': 828, 'through': 829, 'u': 830, 'voted': 831, 'whitehouse': 832, '0': 833, '1.5': 834, '15.2': 835, '19': 836, '1987': 837, '2000': 838, '2008': 839, '2016': 840, '2nd': 841, '3.6': 842, '35': 843, '99': 844, ':P': 845, '@ClaireCMC': 846, '@DS_CT': 847, '@Drudge_Report': 848, '@Fake_Dispatch': 849, '@Gabby_Hoffman': 850, '@Im_Tyler': 851, '@JennyErikson': 852, '@JoeSixpackSays': 853, '@JoiningForces': 854, '@KayHagan': 855, '@LauraFlyMe': 856, '@MarcoRubio': 857, '@MarkWarner': 858, '@OrwellForce': 859, '@POLITICO': 860, '@RandPaul': 861, '@SenJimDeMint': 862, '@barackobama': 863, '@betseyross': 864, '@preciousliberty': 865, '@theblaze': 866, '@wilycyotee': 867, 'AIPAC': 868, 'AP': 869, 'About': 870, 'Admit': 871, 'After': 872, 'Against': 873, 'All': 874, 'Also': 875, 'Analyst64': 876, 'Apparently': 877, 'At': 878, 'Attorney': 879, 'Barry': 880, 'Been': 881, 'Bethesda': 882, 'Biden': 883, 'Billion': 884, 'Buddy': 885, 'Care': 886, 'Certificate': 887, 'Charge': 888, 'China': 889, 'Coalition': 890, 'Daily': 891, 'Damn': 892, 'Day': 893, 'DeMint': 894, 'Debt': 895, 'Direction': 896, 'Dodd': 897, 'Does': 898, 'Down': 899, 'Dr.': 900, 'Elections': 901, 'FAU': 902, 'Fox': 903, 'Friendly': 904, 'Future': 905, 'GO': 906, 'Gas': 907, 'Good': 908, 'Gop': 909, 'Great': 910, 'HAS': 911, 'Have': 912, 'Hmm': 913, 'IM': 914, 'IT': 915, 'Jesus': 916, 'KNOWS': 917, 'Kill': 918, 'LOOOOOOOOOOOOOOOOOOOOOOOOOOOOL': 919, 'Let': 920, 'Letter': 921, 'Liberal': 922, 'Libyan': 923, 'Limbaugh': 924, 'Love': 925, 'MOsen': 926, 'Maher': 927, 'Marine': 928, 'Martin': 929, 'Media': 930, 'Mockingbird': 931, 'More': 932, 'Mr': 933, 'NO': 934, 'Norquist': 935, 'Nothing': 936, 'Now': 937, 'O': 938, 'ON': 939, 'OUR': 940, 'OWN': 941, 'Opposite': 942, 'Organizational': 943, 'POTUS': 944, 'Palin': 945, 'Passover': 946, 'Photo': 947, 'Pictures': 948, 'Piece': 949, 'Policy': 950, 'Presidential': 951, 'Prosecutor': 952, 'RWNJ': 953, 'Read': 954, 'RealClearPolitics': 955, 'Reed': 956, 'Reforming': 957, 'Regime': 958, 'Republicans': 959, 'Reuters': 960, 'Roll': 961, 'Ron': 962, 'RonPaul': 963, 'SCOTUS': 964, 'SO': 965, 'ST': 966, 'STOP': 967, 'Sarah': 968, 'Say': 969, 'Seeing': 970, 'Slobbin': 971, 'Soetoro': 972, 'Story': 973, 'THAT': 974, 'THUG': 975, 'TV': 976, 'Taught': 977, 'TeaParty': 978, 'Thing': 979, 'Thug': 980, 'Tonight': 981, 'Too': 982, 'Trending': 983, 'Tweet': 984, 'UniteWomen': 985, 'Unreal': 986, 'Vote': 987, 'WASHINGTON': 988, 'Walter': 989, 'Warns': 990, 'WoundedWarrior': 991, 'Yeah': 992, 'ad': 993, 'admit': 994, 'admitted': 995, 'age': 996, 'ai': 997, 'answer': 998, 'antithetical': 999, 'anymore': 1000, 'army': 1001, 'arrogant': 1002, 'asking': 1003, 'asks': 1004, 'attack': 1005, 'away': 1006, 'backing': 1007, 'backtracked': 1008, 'bankrupt': 1009, 'battle': 1010, 'beginning': 1011, 'bite': 1012, 'book': 1013, 'boost': 1014, 'bring': 1015, 'brothers': 1016, 'bullshit': 1017, 'chamber': 1018, 'changes': 1019, 'charge': 1020, 'comes': 1021, 'companies': 1022, 'connector': 1023, 'created': 1024, 'credit': 1025, 'crowdfunding': 1026, 'done': 1027, 'due': 1028, 'echo': 1029, 'energy': 1030, 'every': 1031, 'face': 1032, 'fired': 1033, 'flexible': 1034, 'flip': 1035, 'flop': 1036, 'follow': 1037, 'followers': 1038, 'former': 1039, 'free': 1040, 'funding': 1041, 'funny': 1042, 'glad': 1043, 'greets': 1044, 'growing': 1045, 'hands': 1046, 'hashtags': 1047, 'hates': 1048, 'headline': 1049, 'hear': 1050, 'hide': 1051, 'honest': 1052, 'http://t.co/IwG56RDK': 1053, 'http://t.co/NFOS1n9d': 1054, 'http://t.co/rkNdEmIy': 1055, 'http://t.co/vsOYFhSa': 1056, 'http://t.co/wX1RzFKm': 1057, 'humanity': 1058, 'indicator': 1059, 'info': 1060, 'instead': 1061, 'judge': 1062, 'keep': 1063, 'lady': 1064, 'later': 1065, 'leader': 1066, 'leaking': 1067, 'legal': 1068, 'legislation': 1069, 'license': 1070, 'liked': 1071, 'linked': 1072, 'list': 1073, 'little': 1074, 'live': 1075, 'long': 1076, 'looking': 1077, 'losing': 1078, 'loss': 1079, 'lt': 1080, 'maddening': 1081, 'majority': 1082, 'male': 1083, 'market': 1084, 'meeting': 1085, 'men': 1086, 'na': 1087, 'notice': 1088, 'oil': 1089, 'older': 1090, 'online': 1091, 'overt': 1092, 'pass': 1093, 'phone': 1094, 'plans': 1095, 'polls': 1096, 'poop': 1097, 'porn': 1098, 'power': 1099, 'press': 1100, 'probably': 1101, 'professor': 1102, 'prolife': 1103, 'promise': 1104, 'protected': 1105, 'question': 1106, 'race': 1107, 'relentless': 1108, 'remarks': 1109, 'rich': 1110, 'saying': 1111, 'screening': 1112, 'sec': 1113, 'serious': 1114, 'setting': 1115, 'sexy': 1116, 'she': 1117, 'shit': 1118, 'show': 1119, 'sign': 1120, 'site': 1121, 'slur': 1122, 'soon': 1123, 'standing': 1124, 'startup': 1125, 'startups': 1126, 'stop': 1127, 'strong': 1128, 'styles': 1129, 'such': 1130, 'supports': 1131, 't': 1132, 'talk': 1133, 'taxes': 1134, 'tell': 1135, 'though': 1136, 'tired': 1137, 'titled': 1138, 'told': 1139, 'touch': 1140, 'tpn': 1141, 'turned': 1142, 'twisters': 1143, 'un': 1144, 'uncle': 1145, 'understands': 1146, 'visual': 1147, 'warfare': 1148, 'weak': 1149, 'wife': 1150, 'woman': 1151, 'worked': 1152, 'worried': 1153, 'wow': 1154, 'y': 1155, 'yeah': 1156, \"'em\": 1157, '+': 1158, '.....': 1159, '1/2': 1160, '10.6': 1161, '2007': 1162, '4/6/2012': 1163, '5': 1164, '50': 1165, '56': 1166, '57': 1167, '5th': 1168, '7': 1169, '90': 1170, ':-)': 1171, '@17bbomb': 1172, '@1Directionality': 1173, '@1LuisSandoval': 1174, '@ABC': 1175, '@A_Khanivore': 1176, '@AlinskyDefeater': 1177, '@American1st': 1178, '@Atrios': 1179, '@BrianBrownNet': 1180, '@COBrown': 1181, '@CatoInstitute': 1182, '@DanMoffTarkin': 1183, '@ErskineGrier': 1184, '@ForAmerica': 1185, '@GottaLaff': 1186, '@Habibaty_Souria': 1187, '@HuffPostPol': 1188, '@ItsLoopzProd': 1189, '@KarlRove': 1190, '@KevinWGlass': 1191, '@Libertarian_76': 1192, '@MOPNS': 1193, '@MsRock4Ever': 1194, '@NHLWingsfanKay': 1195, '@NatlWOW': 1196, '@Nicky2Things': 1197, '@Norsu2': 1198, '@Obama2012': 1199, '@Our4thEstate': 1200, '@PiratePartyGa': 1201, '@RednaxalA': 1202, '@RyanFecteau': 1203, '@TheDemocrats': 1204, '@WestJournalism': 1205, '@YouTube': 1206, '@_Ciroc_Obama': 1207, '@against_obama': 1208, '@angel__network': 1209, '@derekahunter': 1210, '@dierdrelewis': 1211, '@fredthompson': 1212, '@gardenofthegods': 1213, '@globeandmail': 1214, '@gop': 1215, '@gretawire': 1216, '@jodikyman': 1217, '@mittromney': 1218, '@mlake9': 1219, '@nprnews': 1220, '@pourmecoffee': 1221, '@psema4': 1222, '@robertcobrien': 1223, '@ryanjcroft': 1224, '@searfoss70': 1225, '@sparrowmedia': 1226, '@stinger5150': 1227, '@truthteam2012': 1228, '@workinmama': 1229, 'ABOUT': 1230, 'ACA': 1231, 'ACORN': 1232, 'ALL': 1233, 'ALWAYS': 1234, 'AMERICAN': 1235, 'ARE': 1236, 'ARPAIO': 1237, 'AS': 1238, 'Access': 1239, 'Admin': 1240, 'Africa': 1241, 'African': 1242, 'Aid': 1243, 'Akakakaka': 1244, 'Algae': 1245, 'Alinskyites': 1246, 'Amid': 1247, 'An': 1248, 'Analyt64': 1249, 'Antichrist': 1250, 'Anyone': 1251, 'April': 1252, 'Archbishop': 1253, 'Are': 1254, 'Assad': 1255, 'Attacks': 1256, 'Attempt': 1257, 'Auto': 1258, 'Ayers': 1259, 'BOOSTED': 1260, 'BULLY': 1261, 'Back': 1262, 'Backroom': 1263, 'Be': 1264, 'Ben': 1265, 'Bills': 1266, 'Black': 1267, 'BlameBush': 1268, 'Blueprints': 1269, 'Bringing': 1270, 'Bro': 1271, 'Business': 1272, 'CITIZENS': 1273, 'COLOR': 1274, 'COMING': 1275, 'CONTRARY': 1276, 'COUNTY': 1277, 'CREATED': 1278, 'Calling': 1279, 'Calls': 1280, 'Caring': 1281, 'Carney': 1282, 'Catholic': 1283, 'Catholics': 1284, 'Cause': 1285, 'Chicken': 1286, 'Circuit': 1287, 'Club': 1288, 'Conservative': 1289, 'Conspiracy': 1290, 'Cool': 1291, 'Covert': 1292, 'Critical': 1293, 'Criticizing': 1294, 'Czech': 1295, 'DEM': 1296, 'DEPT': 1297, 'DRAFT': 1298, 'Day&Half': 1299, 'Dealing': 1300, 'Demand': 1301, 'Dems': 1302, 'Despot': 1303, 'Details': 1304, 'Dismissal': 1305, 'Display': 1306, 'Dispute': 1307, 'Dolan': 1308, 'Drug': 1309, 'Dune': 1310, 'ELECTED': 1311, 'Ease': 1312, 'Egg': 1313, 'End': 1314, 'Ever': 1315, 'Exposing': 1316, 'FINALLY': 1317, 'FOR': 1318, 'FRAUD': 1319, 'Facebook': 1320, 'Faces': 1321, 'Fail': 1322, 'Federal': 1323, 'FoxNews': 1324, 'Free': 1325, 'Frightened': 1326, 'Fruhling': 1327, 'FuckGFW': 1328, 'GET': 1329, 'GFW': 1330, 'GRAND': 1331, 'GW': 1332, 'GW)KAPUT': 1333, 'Gamers': 1334, 'General': 1335, 'God': 1336, 'Golf': 1337, 'Goo': 1338, 'Google': 1339, 'HC': 1340, 'HIDE': 1341, 'HIDING': 1342, 'HIS': 1343, 'HOME': 1344, 'Hama': 1345, 'Hamas': 1346, 'Hashtag': 1347, 'Hatch': 1348, 'Health': 1349, 'Healthcare': 1350, 'Hey': 1351, 'Hidden': 1352, 'Hill': 1353, 'Hillary': 1354, 'Homs': 1355, 'IMPORTANT': 1356, 'IN': 1357, 'Illegal': 1358, 'Illuminati': 1359, 'Immigrants': 1360, 'Impact': 1361, 'Independent': 1362, 'Intel': 1363, 'Issue': 1364, 'JURY': 1365, 'JUSTICE': 1366, 'Jersey': 1367, 'Jerusalem': 1368, 'Jesse': 1369, 'Jewish': 1370, 'John': 1371, 'Judge': 1372, 'Jumpstart': 1373, 'K': 1374, 'KNOW': 1375, 'Keune': 1376, 'Killing': 1377, 'King': 1378, 'LETS': 1379, 'LIES': 1380, 'LOL': 1381, 'LYING': 1382, 'Landslide': 1383, 'Larry': 1384, 'Laws': 1385, 'Lee': 1386, 'Lets': 1387, 'Liberals': 1388, 'Lie': 1389, 'Live': 1390, 'Lizard': 1391, 'Lol': 1392, 'Lost': 1393, 'MARICOPA': 1394, 'MT': 1395, 'MUCH': 1396, 'MUST': 1397, 'Made': 1398, 'March': 1399, 'Marijuana': 1400, 'Marion': 1401, 'McCaskill': 1402, 'McConnell': 1403, 'Me': 1404, 'Medical': 1405, 'Meeting': 1406, 'Michael': 1407, 'Middle': 1408, 'Mir': 1409, 'Monday': 1410, 'Money': 1411, 'Mr.': 1412, 'Much': 1413, 'Music': 1414, 'N.H.': 1415, 'NATO': 1416, 'NEW': 1417, 'NOLA': 1418, 'NOW': 1419, 'Nash': 1420, 'Ngakak': 1421, 'Nicole': 1422, 'Nixon': 1423, 'NoObama': 1424, 'Nobody': 1425, 'Nov': 1426, 'Nugget': 1427, 'OH': 1428, 'OR': 1429, 'ObamaCare': 1430, 'Obey': 1431, 'Occupy': 1432, 'OhWait': 1433, 'On': 1434, 'Oops': 1435, 'Osawatomie': 1436, 'Other': 1437, 'Oust': 1438, 'Own': 1439, 'P2': 1440, 'PRESIDENT': 1441, 'Patriot': 1442, 'Podcast': 1443, 'Poor': 1444, 'Power': 1445, 'Pretty': 1446, 'Prices': 1447, 'Pride2012': 1448, 'Professor': 1449, 'Project': 1450, 'Puts': 1451, 'Qaeda': 1452, 'RACIST': 1453, 'ROMNEY': 1454, 'RULE?Mr': 1455, 'Race': 1456, 'Racism': 1457, 'Raw': 1458, 'Ready': 1459, 'Reagan': 1460, 'Remarks': 1461, 'Reporter': 1462, 'Rezko': 1463, 'Ronald': 1464, 'Rush': 1465, 'Russia': 1466, 'Russian': 1467, 'SHERIFF': 1468, 'SHERRIFF': 1469, 'SKIN': 1470, 'SOPA': 1471, 'SPR': 1472, 'Saints': 1473, 'Sand': 1474, 'Save': 1475, 'Schultz': 1476, 'Send': 1477, 'Sexy': 1478, 'Sharing': 1479, 'Sheet': 1480, 'Shell': 1481, 'Sheriff': 1482, 'Shout': 1483, 'Sinclair': 1484, 'Society': 1485, 'Speech': 1486, 'Spending': 1487, 'Spike': 1488, 'Startups': 1489, 'Supply': 1490, 'T': 1491, 'THEIR': 1492, 'THIS': 1493, 'TOO': 1494, 'TRYIN': 1495, 'Tanner': 1496, 'Tcot': 1497, 'Texas': 1498, 'Theory': 1499, 'Thursday': 1500, 'Today': 1501, 'Tomorrow': 1502, 'Tony': 1503, 'Topics': 1504, 'Truth': 1505, 'Tuesday': 1506, 'Twitter': 1507, 'Two': 1508, 'U': 1509, 'UN': 1510, 'UNELECTED': 1511, 'UR': 1512, 'VA': 1513, 'VIOLATING': 1514, 'VPN': 1515, 'VT': 1516, 'Vanished': 1517, 'VetThePrez': 1518, 'WHAT': 1519, 'WIFE': 1520, 'Wait': 1521, 'WarOnJobs': 1522, 'WarOnTheMiddleClass': 1523, 'WarOnThePoor': 1524, 'Watch': 1525, 'WhatsObamaSmoking': 1526, 'When': 1527, 'Whenever': 1528, 'While': 1529, 'Wins': 1530, 'Words': 1531, 'Worst': 1532, 'YOU': 1533, 'YOUR': 1534, 'Year': 1535, 'Yes': 1536, 'Yo': 1537, '_': 1538, 'able': 1539, 'aboga': 1540, 'act': 1541, 'actual': 1542, 'adds': 1543, 'admin': 1544, 'alien': 1545, 'allow': 1546, 'already': 1547, 'ama': 1548, 'apologize': 1549, 'appreciate': 1550, 'art': 1551, 'ask': 1552, 'association': 1553, 'attacking': 1554, 'attacks': 1555, 'attempts': 1556, 'b': 1557, 'baby': 1558, 'bahhh': 1559, 'barrack': 1560, 'becktips': 1561, 'bed': 1562, 'bedsheets': 1563, 'bicycle': 1564, 'blacks': 1565, 'boo': 1566, 'bornthisway': 1567, 'c*nts': 1568, 'candidate': 1569, 'cares': 1570, 'cell': 1571, 'chicos': 1572, 'chocolate': 1573, 'choice': 1574, 'city': 1575, 'classified': 1576, 'closet': 1577, 'code': 1578, 'coming': 1579, 'consnc': 1580, 'control': 1581, 'convicted': 1582, 'copy': 1583, 'crappy': 1584, 'crazy': 1585, 'cronies': 1586, 'cross': 1587, 'dad': 1588, 'damage': 1589, 'dat': 1590, 'day': 1591, 'dealing': 1592, 'deception': 1593, 'define': 1594, 'delivers': 1595, 'dem': 1596, 'democrats': 1597, 'described': 1598, 'designed': 1599, 'despot': 1600, 'diminish': 1601, 'directly': 1602, 'disabled': 1603, 'disappears': 1604, 'divisive': 1605, 'dollar': 1606, 'domestic': 1607, 'donor': 1608, 'draw': 1609, 'drivers': 1610, 'dum': 1611, 'effects': 1612, 'effort': 1613, 'eggs': 1614, 'eligibility': 1615, 'enemy': 1616, 'engaged': 1617, 'entire': 1618, 'es': 1619, 'etc': 1620, 'everything': 1621, 'exist': 1622, 'experts': 1623, 'explanation': 1624, 'exposed': 1625, 'facing': 1626, 'failedleader': 1627, 'fake': 1628, 'far': 1629, 'fast': 1630, 'favourite': 1631, 'fecklessness': 1632, 'feelings': 1633, 'felon': 1634, 'few': 1635, 'fighting': 1636, 'firms': 1637, 'flaps': 1638, 'fly': 1639, 'focus': 1640, 'force': 1641, 'forced': 1642, 'form': 1643, 'founders': 1644, 'freedom': 1645, 'friends': 1646, 'fucking': 1647, 'further': 1648, 'gave': 1649, 'girl': 1650, 'groups': 1651, 'h': 1652, 'habit': 1653, 'hah': 1654, 'hair': 1655, 'hammer': 1656, 'handshake': 1657, 'hash': 1658, 'hate': 1659, 'hated': 1660, 'healthcare': 1661, 'heat': 1662, 'help': 1663, 'housing': 1664, 'http://t': 1665, 'http://t.co/1Pso0ULz': 1666, 'http://t.co/2kXhMwKY': 1667, 'http://t.co/3fgWm3n4': 1668, 'http://t.co/AnxszxJn': 1669, 'http://t.co/GLopiyOC': 1670, 'http://t.co/GzD7DkRt': 1671, 'http://t.co/LUw7Ky66': 1672, 'http://t.co/NZaqvz3C': 1673, 'http://t.co/NcJH7Jgb': 1674, 'http://t.co/PUZRq7HU': 1675, 'http://t.co/YiFq4PKT': 1676, 'http://t.co/f8b7HLaf': 1677, 'http://t.co/fOrfWYMb': 1678, 'http://t.co/iqg1xarL': 1679, 'http://t.co/qmkaNjER': 1680, 'http://t.co/qwIsdV2n': 1681, 'http://t.co/s4XUUW1h': 1682, 'http://t.co/z4KU2HkN': 1683, 'http://t.co/ztufxsn1': 1684, 'huh': 1685, 'human': 1686, 'hussein': 1687, 'ideologues': 1688, 'idiot': 1689, 'idk': 1690, 'ill': 1691, 'independents': 1692, 'ingreso': 1693, 'inherited': 1694, 'interview': 1695, 'irony': 1696, 'judicial': 1697, 'keeper': 1698, 'kein': 1699, 'killing': 1700, 'laechelt': 1701, 'lapdog': 1702, 'las': 1703, 'last': 1704, 'latest': 1705, 'launch': 1706, 'laws': 1707, 'lawsuit': 1708, 'lazy': 1709, 'least': 1710, 'left': 1711, 'liberal': 1712, 'lied': 1713, 'lies': 1714, 'lights': 1715, 'likes': 1716, 'lo': 1717, 'loans': 1718, 'lololol': 1719, 'looks': 1720, 'loses': 1721, 'm': 1722, 'machiavellians': 1723, 'made': 1724, 'magnet': 1725, 'many': 1726, 'married': 1727, 'may': 1728, 'meet': 1729, 'members': 1730, 'membership': 1731, 'message': 1732, 'millenia': 1733, 'millions': 1734, 'minutes': 1735, 'mitt': 1736, 'mm': 1737, 'months': 1738, 'mouth': 1739, 'mujeres': 1740, 'n': 1741, 'newbedon': 1742, 'night': 1743, 'nothing': 1744, 'nyanyi': 1745, 'o': 1746, 'obama2012': 1747, 'once': 1748, 'ove': 1749, 'ows': 1750, 'page': 1751, 'particular': 1752, 'past': 1753, 'pay': 1754, 'penalty': 1755, 'perception': 1756, 'photo': 1757, 'photos': 1758, 'played': 1759, 'pledge': 1760, 'pocket': 1761, 'points': 1762, 'political': 1763, 'por': 1764, 'prepared': 1765, 'presidential': 1766, 'problems': 1767, 'promised': 1768, 'punishwork': 1769, 'put': 1770, 'puts': 1771, 'putting': 1772, 'que': 1773, 'r': 1774, 're': 1775, 'rebels': 1776, 'received': 1777, 'redistributing': 1778, 'refers': 1779, 'regarding': 1780, 'releases': 1781, 'research': 1782, 'resist44': 1783, 'respectability': 1784, 'responds': 1785, 'ridiculous': 1786, 'rule': 1787, 'runs': 1788, 'satisfied': 1789, 'scale': 1790, 'scams': 1791, 'scholar': 1792, 'school': 1793, 'scramble': 1794, 'screwytees': 1795, 'search': 1796, 'secretly': 1797, 'security': 1798, 'seeking': 1799, 'seizure': 1800, 'self': 1801, 'sell': 1802, 'sense': 1803, 'several': 1804, 'shape': 1805, 'ships': 1806, 'shout': 1807, 'showing': 1808, 'shut': 1809, 'si': 1810, 'signed': 1811, 'signing': 1812, 'simple': 1813, 'sing': 1814, 'slammed': 1815, 'slightly': 1816, 'socialism': 1817, 'sodomy': 1818, 'sort': 1819, 'sot': 1820, 'soul': 1821, 'speaks': 1822, 'special': 1823, 'spewing': 1824, 'spine': 1825, 'squ': 1826, 'strategy': 1827, 'style': 1828, 'subject': 1829, 'supporters': 1830, 'supporting': 1831, 'suppressing': 1832, 'taken': 1833, 'takes': 1834, 'taking': 1835, 'talks': 1836, 'telling': 1837, 'terrorist': 1838, 'theatre': 1839, 'thinks': 1840, 'this?': 1841, 'thought': 1842, 'three': 1843, 'throw': 1844, 'thugs': 1845, 'today': 1846, 'tomorrow': 1847, 'top': 1848, 'train': 1849, 'transparent': 1850, 'trend': 1851, 'tried': 1852, 'trillions': 1853, 'truly': 1854, 'tw*ts': 1855, 'twcot': 1856, 'type': 1857, 'uh': 1858, 'um': 1859, 'unable': 1860, 'using': 1861, 'v.': 1862, 'value': 1863, 'verification': 1864, 'vs': 1865, 'waiting': 1866, 'war': 1867, 'wasteful': 1868, 'wealth': 1869, 'week': 1870, 'whole': 1871, 'whose': 1872, 'wimp': 1873, 'wins': 1874, 'wishes': 1875, 'word': 1876, 'wording': 1877, 'worry': 1878, 'worst': 1879, 'writes': 1880, 'year': 1881, '   ': 1882, '#Obama': 1883, '&gt;&gt': 1884, '(:': 1885, '):': 1886, '-&gt': 1887, '--&gt': 1888, '----': 1889, '-.-': 1890, '-me': 1891, '-thugnificent': 1892, '.#tcot': 1893, '......': 1894, '..........': 1895, '.@ResistTyranny': 1896, '.@USNavy': 1897, '08': 1898, '0ne': 1899, '1.92': 1900, '100': 1901, '12': 1902, '121': 1903, '15': 1904, '17': 1905, '1974': 1906, '1984': 1907, '1989': 1908, '1Dfact': 1909, '2.2': 1910, '2.50': 1911, '2/4': 1912, '20': 1913, '2004': 1914, '2009': 1915, '200daywar': 1916, '2010': 1917, '2013': 1918, '202': 1919, '221': 1920, '223': 1921, '24': 1922, '247': 1923, '25': 1924, '270': 1925, '3.5': 1926, '30': 1927, '300': 1928, '3087': 1929, '313': 1930, '33': 1931, '345': 1932, '3rd': 1933, '414': 1934, '43': 1935, '4:25:20': 1936, '4:27:33': 1937, '5.00': 1938, '500,000': 1939, '599': 1940, '5x': 1941, '6': 1942, '6th': 1943, '73': 1944, '76': 1945, '8': 1946, '80s': 1947, '87': 1948, '90s': 1949, '9212': 1950, '95': 1951, '97': 1952, ':-))': 1953, ':-p': 1954, ':/': 1955, ':D': 1956, ':O': 1957, ';)': 1958, '@/SheCallsMeLarryThe': 1959, '@/ThirdRailersObama': 1960, '@0ryuge': 1961, '@1DfactsOMG': 1962, '@1Dlover_carrots': 1963, '@4Mitt4USA': 1964, '@AC360': 1965, '@AIsForOrg': 1966, '@AP_Ken_Thomas': 1967, '@AnitaMarks': 1968, '@ArkansasBoys': 1969, '@Artco77': 1970, '@AudreyLPerry': 1971, '@Ausflatfish': 1972, '@AustinPaul19': 1973, '@BaisdenLive': 1974, '@BandDirFundRais': 1975, '@Bdcochese': 1976, '@Bellanieve': 1977, '@Boudicabpi': 1978, '@BuckSexton': 1979, '@BunkerBlast': 1980, '@CARepublican12': 1981, '@CAWright77': 1982, '@CArepub': 1983, '@CBSSports': 1984, '@CBrielle5': 1985, '@CNNnewsroom': 1986, '@CaptivatingNews': 1987, '@ChicoDelainky': 1988, '@Ciroc_Obama': 1989, '@Common_Sense4U': 1990, '@Creationtips': 1991, '@DJECOOL': 1992, '@DavidCornDC': 1993, '@DavidShuster': 1994, '@Deltagirl1326': 1995, '@Devils_for_Life': 1996, '@DrewMcKissick': 1997, '@Duckinthedesert': 1998, '@EMcLean1982': 1999, '@EWErickson': 2000, '@EileenLeft': 2001, '@ExtremeLiberal': 2002, '@FAU_Problems': 2003, '@FHQ': 2004, '@FRANCE24': 2005, '@Fer_SmilerJB': 2006, '@Fingersflying': 2007, '@FrankConniff': 2008, '@GarrettNBCNews': 2009, '@GatorNation41': 2010, '@GeorgeD_87': 2011, '@GetsGreased': 2012, '@Ghutsch': 2013, '@GlobalGrind': 2014, '@GranholmTWR': 2015, '@GrassRootRevolt': 2016, '@GregWHoward': 2017, '@GuyKawasaki': 2018, '@HeidiForLiberty': 2019, '@HeraMing': 2020, '@HesDanTheMan': 2021, '@HonestConservat': 2022, '@HonestMitt': 2023, '@HuffingtonPost': 2024, '@IBDinvestors': 2025, '@IamDonCheadle': 2026, '@IndyEnigma': 2027, '@JanOnAmerica': 2028, '@JaySekulow': 2029, '@JeffreyToobin': 2030, '@Jeri2': 2031, '@JoeNBC': 2032, '@JohnSMackenzie': 2033, '@John_37058': 2034, '@JonahNRO': 2035, '@Josh_Painter': 2036, '@JustAnotherMo': 2037, '@Justgod007': 2038, '@KatrinaNation': 2039, '@KeithOlbermann': 2040, '@Kerryepp': 2041, '@LMFAO': 2042, '@LeslieMarshall': 2043, '@Lever_OFA_NH': 2044, '@LongLiveShah': 2045, '@Lorebsponge': 2046, '@Ludacris': 2047, '@LyndsayFarlow': 2048, '@MJ_Obama': 2049, '@MacehuaHart': 2050, '@Mamadoxie': 2051, '@Media_Laws': 2052, '@MeganSmiles': 2053, '@MerlePearl': 2054, '@MiamiHerald': 2055, '@MichelleObama': 2056, '@MikeAllen': 2057, '@MikeLotito15': 2058, '@MiltShook': 2059, '@Mirandacan': 2060, '@MissusPowell': 2061, '@MooseOfReason': 2062, '@MrPartisan': 2063, '@MrTinyPenis': 2064, '@Mr_JPatt': 2065, '@MusicandFaith': 2066, '@NBCNews': 2067, '@NMsly': 2068, '@Notintheface1': 2069, '@NouvelleNom': 2070, '@OREILLY': 2071, '@PRINCE_POLO': 2072, '@PRIVATE_SLEEPY': 2073, '@PamMcAllister': 2074, '@PeteXU': 2075, '@PeterSchiff': 2076, '@PitchyPete': 2077, '@Po_st': 2078, '@PoliticalGal11': 2079, '@PresElections': 2080, '@RT_America': 2081, '@RandallHoven': 2082, '@RealClearScott': 2083, '@RealNichelle': 2084, '@Real_Liam_Payne': 2085, '@RickSantorum': 2086, '@RightWay2': 2087, '@River_City': 2088, '@RobertoManzana': 2089, '@RoheezyDoesIt': 2090, '@SamValley': 2091, '@SarahRoman11': 2092, '@SayfieReview': 2093, '@SexeadaPor1D': 2094, '@SgtPolite': 2095, '@SgtTim911': 2096, '@Shareaholic': 2097, '@SheCallsMeLarry': 2098, '@Solameanie': 2099, '@Spidyy32': 2100, '@Steto33': 2101, '@SteveDeaceShow': 2102, '@Stewart7Donna': 2103, '@Stranahan': 2104, '@SubwayEATTFRESH': 2105, '@TBCDG': 2106, '@TCOTvideos': 2107, '@Tacami222': 2108, '@TannerEnglish3': 2109, '@TheOnion': 2110, '@ThePlumLineGS': 2111, '@TheRealRoseanne': 2112, '@TheWrightWingv2': 2113, '@TimothyNoah1': 2114, '@Tiwaworks': 2115, '@TrackVeteran': 2116, '@TrentOn_YouOff': 2117, '@Trigonis': 2118, '@TylerSadonis': 2119, '@Un_OccupyWallSt': 2120, '@Un_Progressive': 2121, '@VRWCTexan': 2122, '@VoteHillary2012': 2123, '@WAMK': 2124, '@W_Paul_Williams': 2125, '@Wary12': 2126, '@WhineNot': 2127, '@WhiteHouse': 2128, '@WilliamShatner': 2129, '@Wozniak1': 2130, '@YahooNews': 2131, '@YungdashK': 2132, '@ZekeJMiller': 2133, '@Zulu_xo': 2134, '@_H_C_T': 2135, '@alexaforman': 2136, '@anthropocon': 2137, '@astroterf': 2138, '@attackwatch': 2139, '@benhurleycomedy': 2140, '@billmaher': 2141, '@blessmyliberty': 2142, '@brianwiersema': 2143, '@c_o_l_l_e_e_n': 2144, '@cannabis_times': 2145, '@cardinal623:#edshow': 2146, '@carrotgravy': 2147, '@charlesdavis84': 2148, '@charlesfrith': 2149, '@commondreams': 2150, '@daanxyelll': 2151, '@danwho': 2152, '@debv219': 2153, '@donjuanw': 2154, '@drecrumbs': 2155, '@edu_castillo': 2156, '@edwardvirtually': 2157, '@esqcapades': 2158, '@freegalt': 2159, '@funkmasterflex': 2160, '@haymakers': 2161, '@huffingtonpost': 2162, '@iChicagoScott': 2163, '@idkmanilove1D': 2164, '@informedblackmn': 2165, '@iowahawkblog': 2166, '@jaguarfreckles': 2167, '@jameshohmann': 2168, '@jaysekulow': 2169, '@jazzcattrio': 2170, '@jeffreytoobin': 2171, '@jennykassan': 2172, '@jimcramer': 2173, '@jltho': 2174, '@jmimac351': 2175, '@jswoopg76': 2176, '@katie_larson': 2177, '@katiehiggins_x': 2178, '@kellieo79': 2179, '@kkrebeka': 2180, '@kombiz': 2181, '@krauthammer': 2182, '@larryeldershow': 2183, '@letsrollforums': 2184, '@liberalminds': 2185, '@lilcode45': 2186, '@lilrascal01': 2187, '@maddow': 2188, '@marclamonthill': 2189, '@maryfranholm': 2190, '@marymauldin': 2191, '@mbenzgt': 2192, '@meganagerton': 2193, '@megynkelly': 2194, '@messina2012': 2195, '@michellemalkin': 2196, '@mmfa': 2197, '@motherjones': 2198, '@nakedsk8boy': 2199, '@nat_riverascott': 2200, '@nbcpolitics': 2201, '@newspin': 2202, '@nicholle': 2203, '@occupymarines': 2204, '@politifact': 2205, '@poorconservativ': 2206, '@pritikothari': 2207, '@rickjnewman': 2208, '@ridiamond': 2209, '@rightchange2012': 2210, '@robints': 2211, '@ronpaulrca2012': 2212, '@roobishimmer': 2213, '@rovibe71': 2214, '@rushlimbaugh777': 2215, '@samiksami': 2216, '@scarlett_0hara': 2217, '@schwingcat': 2218, '@seanhannity': 2219, '@sevenlayercake': 2220, '@sgaut': 2221, '@sierchioM': 2222, '@skeeteronmy': 2223, '@solomongebbs': 2224, '@southsalem': 2225, '@stonerjesus420': 2226, '@sugarscape': 2227, '@sunnyright': 2228, '@susie_c': 2229, '@sweetbay': 2230, '@tajan1': 2231, '@taylorswift13': 2232, '@teacherspets': 2233, '@terresamonroe': 2234, '@texaszman': 2235, '@therealrc': 2236, '@therightsarah': 2237, '@times247': 2238, '@timgRIGHTway': 2239, '@truebornstark': 2240, '@truthout': 2241, '@tsagliani': 2242, '@tweetslikeagirl': 2243, '@uscfandave': 2244, '@vaponte8': 2245, '@vflyby': 2246, '@washingtonpost': 2247, '@whatevrer': 2248, '@wolfblitzercnn': 2249, '@xShwag': 2250, '@yahoocanadanews': 2251, '@yaliberty': 2252, 'ABT': 2253, 'AC360': 2254, 'ACTIONS': 2255, 'AGAIN': 2256, 'AHUAHAHUHAHAUHUAHUAHHAUHA': 2257, 'AL': 2258, 'ALOT': 2259, 'ALREADY': 2260, 'ANYONE': 2261, 'ANYTHING': 2262, 'AWHOs': 2263, 'Abortion': 2264, 'Accusation': 2265, 'Accused': 2266, 'Accuses': 2267, 'Actions': 2268, 'Adams': 2269, 'Adviser': 2270, 'Again': 2271, 'Ahab': 2272, 'Airing': 2273, 'Airships': 2274, 'Al': 2275, 'Ali': 2276, 'Already': 2277, 'Alright': 2278, 'Always': 2279, 'Alzheimer': 2280, 'Am': 2281, 'Ame': 2282, 'Amendment': 2283, 'Amp': 2284, 'Announces': 2285, 'Anonymous': 2286, 'Answer': 2287, 'Anthony': 2288, 'Apologies': 2289, 'Appeals': 2290, 'Apple': 2291, 'Approve': 2292, 'Apuzzo': 2293, 'Architects': 2294, 'Army': 2295, 'ArmyofBreitbarts': 2296, 'Around': 2297, 'Art': 2298, 'Asians': 2299, 'Asked': 2300, 'Asking': 2301, 'Assailing': 2302, 'Assignment': 2303, 'Attack': 2304, 'Augusta//': 2305, 'Austan': 2306, 'AutoFollowBack': 2307, 'B': 2308, 'B.S.': 2309, 'BACK': 2310, 'BARACK': 2311, 'BASTARD': 2312, 'BEST': 2313, 'BIGFOOT': 2314, 'BLENDER': 2315, 'BO': 2316, 'BOSS': 2317, 'BRAIN': 2318, 'BRING': 2319, 'BULLSHIT': 2320, 'BUSH': 2321, 'BUT': 2322, 'BWAhahahahahaha': 2323, 'Baby': 2324, 'Background': 2325, 'Baker': 2326, 'Balances': 2327, 'Ballot': 2328, 'Bam': 2329, 'Baptist': 2330, 'Barbara': 2331, 'Barone': 2332, 'Barrack': 2333, 'Based': 2334, 'Bastard': 2335, 'Bd': 2336, 'Bean': 2337, 'Beastiality': 2338, 'Because': 2339, 'Beer': 2340, 'Before': 2341, 'Beloit': 2342, 'Bey': 2343, 'Beyond': 2344, 'Bieber': 2345, 'Bigfoot': 2346, 'Bipartisan': 2347, 'Biz': 2348, 'Blog': 2349, 'Bloodiest': 2350, 'Bo': 2351, 'Bob': 2352, 'Bobby': 2353, 'Boca': 2354, 'Bogus': 2355, 'Booming': 2356, 'Both': 2357, 'Bottles': 2358, 'Bounty': 2359, 'Bouvier': 2360, 'Breakfast': 2361, 'Breaking': 2362, 'Breitbart': 2363, 'Briefing': 2364, 'Bucco': 2365, 'Bucket': 2366, 'Buffet': 2367, 'Buffett': 2368, 'Bully': 2369, 'Busch': 2370, 'Byte': 2371, 'C': 2372, \"C'm\": 2373, 'CAROLINE': 2374, 'CATERPILLAR': 2375, 'CBC': 2376, 'CBS': 2377, 'CEO': 2378, 'CIA': 2379, 'CLEARLY': 2380, 'CNS': 2381, 'COME': 2382, 'COMMERCIAL': 2383, 'CORE': 2384, 'Cab': 2385, 'Caller': 2386, 'Canada': 2387, 'Capital': 2388, 'Case': 2389, 'Center': 2390, 'Chairman': 2391, 'Challenge': 2392, 'Charles': 2393, 'Charlotte': 2394, 'Checking': 2395, 'Checks': 2396, 'Chicom': 2397, 'Children': 2398, 'Christian': 2399, 'Christians': 2400, 'Church': 2401, 'Civility': 2402, 'Clarifying': 2403, 'Clearly': 2404, 'Clinton': 2405, 'Close': 2406, 'Cloward': 2407, 'Co': 2408, 'Collection': 2409, 'College': 2410, 'Comes': 2411, 'Commentary': 2412, 'Commie': 2413, 'Common': 2414, 'Communal': 2415, 'Communist': 2416, 'Community': 2417, 'Compare': 2418, 'Completes': 2419, 'Concerning': 2420, 'Conclusive': 2421, 'Conference': 2422, 'Confidence': 2423, 'Conservatives': 2424, 'Consistently': 2425, 'Corn': 2426, 'Could': 2427, 'Courtroom': 2428, 'Cozies': 2429, 'Crackdown': 2430, 'Crashes': 2431, 'Create': 2432, 'Credit': 2433, 'Criticizes': 2434, 'Critique': 2435, 'Cross': 2436, 'Crossed': 2437, 'Crude': 2438, 'D': 2439, 'DATED': 2440, 'DAYMN': 2441, 'DBM': 2442, 'DEMOCRATS': 2443, 'DID': 2444, \"DIDN'T\": 2445, 'DIE': 2446, 'DNC': 2447, 'DOJ': 2448, 'DOWN': 2449, 'DUM': 2450, 'Da': 2451, 'Dan': 2452, 'Dangerous': 2453, 'Dangerously': 2454, 'Dapper': 2455, 'Dear': 2456, 'Debbie': 2457, 'Declaration': 2458, 'Decoded': 2459, 'Defend': 2460, 'Defends': 2461, 'Deficit': 2462, 'Delivers': 2463, 'Dem': 2464, 'Designers': 2465, 'Despite': 2466, 'Destruction': 2467, 'Dick': 2468, 'Dies': 2469, 'Digital': 2470, 'Dine': 2471, 'Discuss': 2472, 'Disobedience': 2473, 'Dog': 2474, 'Donor': 2475, 'Doomsday': 2476, 'Drama': 2477, 'Dreams': 2478, 'DrillHereDrillNow': 2479, 'Drive': 2480, 'Drones': 2481, 'Drool': 2482, 'Duh': 2483, 'Dumbest': 2484, 'Dunce': 2485, 'During': 2486, 'E.': 2487, 'EARTH': 2488, 'ED': 2489, 'EDITORIAL': 2490, 'ENDORSES': 2491, 'EVERYONE': 2492, 'EVERYTHING': 2493, 'EXCLUSIVE': 2494, 'East': 2495, 'Easy': 2496, 'Ebinger': 2497, 'Echoes': 2498, 'Economics101': 2499, 'Economist': 2500, 'Economy': 2501, 'Ed': 2502, 'Eff': 2503, 'Elected': 2504, 'Election2012': 2505, 'Emergency': 2506, 'Endorses': 2507, 'Enemies': 2508, 'Ermey': 2509, 'Escalades': 2510, 'Espionage': 2511, 'Estados': 2512, 'Everyone': 2513, 'Ewell': 2514, 'Examiner-': 2515, 'Example': 2516, 'Expect': 2517, 'Exploited': 2518, 'Exposed': 2519, 'Extends': 2520, 'Extermination': 2521, 'FACT': 2522, 'FACTS': 2523, 'FAILURE': 2524, 'FAR': 2525, 'FEAR': 2526, 'FFL': 2527, 'FFX': 2528, 'FI': 2529, 'FIRST': 2530, 'FLsen': 2531, 'FORGET': 2532, 'FREE': 2533, 'FUCK': 2534, 'FULLERTON': 2535, 'FUNGI': 2536, 'FYI': 2537, 'Face': 2538, 'FactChecked': 2539, 'Fake': 2540, 'Fantasy': 2541, 'FastAndFurious': 2542, 'FastandFurious': 2543, 'Fed': 2544, 'Feds': 2545, 'Figurative': 2546, 'Files': 2547, 'Finally': 2548, 'Finnish': 2549, 'FireObama': 2550, 'Fired': 2551, 'Fix': 2552, 'Fla': 2553, 'FlipFlop': 2554, 'Follows': 2555, 'Foot': 2556, 'Forbes': 2557, 'Fort': 2558, 'Forums': 2559, 'Front': 2560, 'Fuck': 2561, 'Fuel': 2562, 'Funding': 2563, 'Fwank': 2564, 'G': 2565, 'GA': 2566, 'GIven': 2567, 'GONE': 2568, 'GOp': 2569, 'Gal': 2570, 'Gay': 2571, 'Geither': 2572, 'Gender': 2573, 'Generation': 2574, 'George': 2575, 'Getting': 2576, 'Ghandi': 2577, 'Gimme': 2578, 'Gingrich': 2579, 'Globalist': 2580, 'Goals&gt': 2581, 'Godfather': 2582, 'Godwins': 2583, 'Goes': 2584, 'Goolsbee': 2585, 'Gop2012': 2586, 'Got': 2587, 'Governor': 2588, 'Grammar': 2589, 'Grand': 2590, 'Graph': 2591, 'Grave': 2592, 'Grimaces': 2593, 'Groups': 2594, 'Gun': 2595, 'HAARP': 2596, 'HARD': 2597, \"HASN'T\": 2598, 'HD': 2599, 'HINT': 2600, 'HOLD': 2601, 'HOUSE': 2602, 'HOW': 2603, 'Had': 2604, 'Hannity': 2605, 'Happy': 2606, 'Hate': 2607, 'Hazz': 2608, 'Headlines': 2609, 'Heard': 2610, 'Heart': 2611, 'Heat': 2612, 'Hedges': 2613, 'Herald': 2614, 'Here': 2615, 'Hernandez': 2616, 'High': 2617, 'Hillarys': 2618, 'Hinderaker': 2619, 'Hints': 2620, 'Hispanic': 2621, 'Hispanics': 2622, 'Homework': 2623, 'HonestMitt': 2624, 'Honey': 2625, 'Hoodie': 2626, 'Hoping': 2627, 'Hosting': 2628, 'Hot': 2629, 'Hussein': 2630, \"I'M\": 2631, 'IBLOCKA': 2632, 'IBM': 2633, 'ID': 2634, 'IDIC': 2635, 'IDK': 2636, 'IF': 2637, 'IL': 2638, 'ILikeObamacare': 2639, 'INSIDE': 2640, 'INTERNSHIP': 2641, 'IRS': 2642, 'IT(Cover': 2643, 'ITS': 2644, 'IWantToPunchPeopleWho': 2645, 'Ignorant': 2646, 'Illinois': 2647, 'Immelt': 2648, 'Impeachment': 2649, 'Impossible': 2650, 'Independence': 2651, 'Industry': 2652, 'Infidel': 2653, 'Influence': 2654, 'Initial': 2655, 'Injuries': 2656, 'Instead': 2657, 'Insults': 2658, 'Insurance': 2659, 'Invite': 2660, 'Iowa': 2661, 'Irony': 2662, 'Irregulars': 2663, 'Islamists': 2664, 'Issues': 2665, 'Its': 2666, 'J': 2667, 'JD': 2668, 'JFK': 2669, 'JOBSAct': 2670, 'JUST': 2671, 'Jacket': 2672, 'Jackson': 2673, 'Jam': 2674, 'Jay': 2675, 'Jeans': 2676, 'Jefferson': 2677, 'Jewbags': 2678, 'JobsAct': 2679, 'Joe': 2680, 'Jokes': 2681, 'Joking': 2682, 'Jones': 2683, 'Judges': 2684, 'Judicial': 2685, 'Justice': 2686, 'Justices': 2687, 'Justin': 2688, 'KIM': 2689, 'KNEW': 2690, 'KNOCK': 2691, 'Kagan': 2692, 'Kal': 2693, 'Kansas': 2694, 'Kappa': 2695, 'Katie': 2696, 'Katrina': 2697, 'Keystone': 2698, 'Khady': 2699, 'Khalidi': 2700, 'Kids': 2701, 'Kim': 2702, 'Kinda': 2703, 'Kiriakou': 2704, 'Kneed': 2705, 'Know': 2706, 'Knox': 2707, 'Kristol': 2708, 'Kryptonite': 2709, 'LATimes': 2710, 'LET': 2711, 'LIARS': 2712, 'LIKE': 2713, 'LIMBAUGH': 2714, 'LIVE': 2715, 'LLAP': 2716, 'LMAO': 2717, 'LMBO': 2718, 'LMFAO': 2719, 'LONGBOARD': 2720, 'LUIS!RT': 2721, 'LaFollette': 2722, 'Laden': 2723, 'Lamont': 2724, 'Last': 2725, 'Late': 2726, 'Latest': 2727, 'Latinos': 2728, 'Launch': 2729, 'Leaders': 2730, 'League': 2731, 'Leak': 2732, 'Leave': 2733, 'Legislator': 2734, 'Less': 2735, 'Lexington': 2736, 'Libs': 2737, 'Lied': 2738, 'Lies': 2739, 'Life': 2740, 'Lil': 2741, 'Lines': 2742, 'List': 2743, 'Literally': 2744, 'Little': 2745, 'Living': 2746, 'Logic': 2747, 'Looks': 2748, 'Los': 2749, 'Lower': 2750, 'Lying': 2751, 'M.': 2752, 'MAD': 2753, 'MBA': 2754, 'MEAN': 2755, 'MEET': 2756, 'MICHELLE': 2757, 'MINDKILLER': 2758, 'MLK': 2759, 'MMJ': 2760, 'MUMMMYYYYYYYYYY': 2761, 'MY': 2762, 'Madison': 2763, 'Mahjong': 2764, 'Major': 2765, 'Makes': 2766, 'Making': 2767, 'Man': 2768, 'Mandate': 2769, 'Mannnnn': 2770, 'Marbury': 2771, 'Marc': 2772, 'Mario': 2773, 'Marriage|': 2774, 'Marxist': 2775, 'Masters': 2776, 'Matters': 2777, 'Maverick': 2778, 'Max': 2779, 'Maybe': 2780, 'Meetings': 2781, 'Megan': 2782, 'Meltdown': 2783, 'Men': 2784, 'Messina': 2785, 'Metal': 2786, 'Metropolitan': 2787, 'Mic': 2788, 'Military': 2789, 'Million': 2790, 'Minaj': 2791, 'Mining': 2792, 'Miraculous': 2793, 'Mistake': 2794, 'Mittens': 2795, 'Mixalot': 2796, 'Mmm': 2797, 'Mom': 2798, 'Mormon': 2799, 'Moving': 2800, 'Mrs': 2801, 'Muhammad': 2802, 'Murderers': 2803, 'Museum': 2804, 'Muslims': 2805, 'Must': 2806, 'N.C.': 2807, 'NAACP': 2808, 'NBC': 2809, 'NEED': 2810, 'NEEDS': 2811, 'NEWSXOOMcom': 2812, 'NEXT': 2813, 'NGVs': 2814, 'NH': 2815, 'NOBODY': 2816, 'NONE': 2817, 'NOT&gt': 2818, 'NOTHING': 2819, 'NPR': 2820, 'NRO': 2821, 'NUTS': 2822, 'NW': 2823, 'Naked': 2824, 'Namun': 2825, 'Nancy': 2826, 'NatGas': 2827, 'Nation': 2828, 'Naval': 2829, 'Navy': 2830, 'Newshounds': 2831, 'Newt': 2832, 'Next': 2833, 'Nicki': 2834, 'Nigeria': 2835, 'Night': 2836, 'Nobeles': 2837, 'November': 2838, 'Nyrell': 2839, \"O'Reilly\": 2840, 'O.': 2841, 'OCRA': 2842, 'OIL': 2843, 'OK': 2844, 'OKAY': 2845, 'OMFG': 2846, 'OOOORAH': 2847, 'OUT': 2848, 'OVER': 2849, 'OVERSOLD': 2850, 'OWS': 2851, 'Off': 2852, 'Officially': 2853, 'Old': 2854, 'Ooh': 2855, 'Operation': 2856, 'Opinion': 2857, 'Oprah': 2858, 'Or': 2859, 'Ordained': 2860, 'Organizations': 2861, 'Organizers': 2862, 'Orin': 2863, 'Osama': 2864, 'Otherwise': 2865, 'Ouch': 2866, 'Out': 2867, 'Over': 2868, 'P': 2869, 'PA': 2870, 'PANTS': 2871, 'PETTY': 2872, 'POLICIES': 2873, 'POLITICIANS': 2874, 'POSITIVE': 2875, 'PRESIDENTIAL': 2876, 'PROD': 2877, 'PRODUCTION': 2878, 'PUT': 2879, 'Package': 2880, 'Pages': 2881, 'Panthers': 2882, 'Park': 2883, 'Past': 2884, 'Patriots': 2885, 'Pavlich': 2886, 'Pay': 2887, 'Pelosi': 2888, 'Penn': 2889, 'Pennsylvania': 2890, 'Pepsi': 2891, 'Perfect': 2892, 'Perry': 2893, 'Photos': 2894, 'PickensPlan': 2895, 'Picture': 2896, 'Pin': 2897, 'Pipeline': 2898, 'Piss': 2899, 'Piven': 2900, 'Plan': 2901, 'Please': 2902, 'PolitiFact': 2903, 'Poll': 2904, 'Poop': 2905, 'Pope': 2906, 'Portugeese': 2907, 'Powerline': 2908, 'Powers': 2909, 'Pravda': 2910, 'Prayer': 2911, 'Predator': 2912, 'Presentation': 2913, 'Preserve': 2914, 'Presiden': 2915, 'Presidents': 2916, 'Pretzel': 2917, 'Prevent': 2918, 'Prevented': 2919, 'Prez': 2920, 'Probably': 2921, 'Progressive': 2922, 'Progressives': 2923, 'Promised': 2924, 'Promo': 2925, 'Propaganda': 2926, 'Proposal': 2927, 'Protect': 2928, 'Publishes': 2929, 'Purple': 2930, 'Push': 2931, 'QDR': 2932, 'QUITE': 2933, 'Questioning': 2934, 'Quran': 2935, 'R.': 2936, 'READ': 2937, 'REALLY': 2938, 'RIGHT': 2939, 'ROCK': 2940, 'RS': 2941, 'RTs': 2942, 'RW': 2943, 'RWers': 2944, 'Rachel': 2945, 'Racial': 2946, 'Radicals': 2947, 'Raids': 2948, 'Raising': 2949, 'Rare': 2950, 'Rashid': 2951, 'Rate': 2952, 'Re': 2953, 'Recession': 2954, 'Recycles': 2955, 'Regulatory': 2956, 'Research': 2957, 'Respect': 2958, 'Restraint': 2959, 'Reveals': 2960, 'Revolution': 2961, 'Ridicule': 2962, 'Riding': 2963, 'Rights': 2964, 'Rihanna': 2965, 'Rips': 2966, 'Romney&gt;Obama': 2967, 'Room': 2968, 'Row': 2969, 'Rules': 2970, 'Running': 2971, 'S': 2972, 'SAID': 2973, 'SANTORUM': 2974, 'SAYS': 2975, 'SC': 2976, 'SCHEMA': 2977, 'SCUM': 2978, 'SEAL': 2979, 'SEMPER': 2980, 'SEXY': 2981, 'SGP': 2982, 'SH': 2983, 'SHITGOTREAL': 2984, 'SHOW': 2985, 'SHREW': 2986, 'SOPHIA': 2987, 'SOTU': 2988, 'SPEAK': 2989, 'STEP': 2990, 'STFU': 2991, 'STOCK': 2992, 'SUMMER': 2993, 'SURE': 2994, 'Sales': 2995, 'Sanctioning': 2996, 'Saturn': 2997, 'Savage': 2998, 'SaveTheArctic': 2999, 'Saved': 3000, 'Saying': 3001, 'Scandal': 3002, 'Schumer': 3003, 'Scott': 3004, 'Scramble': 3005, 'Secretly': 3006, 'Seder': 3007, 'See': 3008, 'Selma': 3009, 'Service': 3010, 'Sets': 3011, 'Shaping': 3012, 'Share': 3013, 'Sharia': 3014, 'Sharpens': 3015, 'Sharpton': 3016, 'She': 3017, 'Ships': 3018, 'Shocked': 3019, 'Shop': 3020, 'Shorthand': 3021, 'Since': 3022, 'Single': 3023, 'Sipsey': 3024, 'Sir': 3025, 'Six': 3026, 'Skateboard': 3027, 'Skew': 3028, 'Skipper': 3029, 'Slobbers': 3030, 'Small': 3031, 'Soars': 3032, 'Socialist': 3033, 'Sodomy': 3034, 'Some': 3035, 'Son': 3036, 'Soooo': 3037, 'SouthFloridaGayNews.|': 3038, 'Southern': 3039, 'Soviet': 3040, 'Spaced': 3041, 'Speeches': 3042, 'Spent': 3043, 'Spoke': 3044, 'Spy': 3045, 'Standard': 3046, 'Startling': 3047, 'Stephen': 3048, 'Steroids': 3049, 'Steve': 3050, 'SteveJobs': 3051, 'Still': 3052, 'Street': 3053, 'Strike': 3054, 'Striking': 3055, 'Strong': 3056, 'Suburbanites': 3057, 'Supports': 3058, 'Susan': 3059, 'Swiftboat': 3060, 'TARP': 3061, 'TH': 3062, 'THINKIN': 3063, 'THINKS': 3064, 'THere': 3065, 'TMNT': 3066, 'TPP': 3067, 'TPie': 3068, 'TROOPS': 3069, 'TRUCKS': 3070, 'TWEETED': 3071, 'TWITTER': 3072, 'Table': 3073, 'Take': 3074, 'Taking': 3075, 'Tales': 3076, 'Taliban': 3077, 'Talking': 3078, 'Target': 3079, 'Tax': 3080, 'Taxes': 3081, 'Taxpayer': 3082, 'Tea': 3083, 'Team': 3084, 'TeamFollowBack': 3085, 'Teaparty': 3086, 'TelePrompter': 3087, 'Telegrap': 3088, 'Than': 3089, 'Thank': 3090, 'Thanx': 3091, 'TheAnonMessage': 3092, 'TheTavisSmileyShow': 3093, 'Their': 3094, 'Then': 3095, 'These': 3096, 'Three': 3097, 'Throughout': 3098, 'Tierney': 3099, 'Tiger': 3100, 'Tolak': 3101, 'Tonic': 3102, 'TopProg': 3103, 'Totalitarianism': 3104, 'TrackNation': 3105, 'Traditional': 3106, 'Transcripts': 3107, 'TrayvonMartin': 3108, 'Trekker': 3109, 'Trekkie': 3110, 'Trend': 3111, 'Trillion': 3112, 'Troops': 3113, 'Truly': 3114, 'Trying': 3115, 'Turning': 3116, 'Um': 3117, 'Umm': 3118, 'Un': 3119, 'Undangan': 3120, 'Under': 3121, 'Understood': 3122, 'Unelected': 3123, 'Unemployment': 3124, 'Unidos': 3125, 'Union': 3126, 'Unite': 3127, 'Universal': 3128, 'Unqualified': 3129, 'Unresolved': 3130, 'Unthinkable': 3131, 'Up': 3132, 'Using': 3133, 'VAsen': 3134, 'VIDS': 3135, 'VIEW': 3136, 'Van': 3137, 'Vera': 3138, 'Very': 3139, 'VetThePres': 3140, 'VetThePress': 3141, 'Veteran': 3142, 'Vets': 3143, 'Vetting': 3144, 'Via': 3145, 'Vision': 3146, 'Voters': 3147, 'Vulcan': 3148, 'W': 3149, 'WAIT': 3150, 'WANT': 3151, 'WANTS': 3152, 'WAS': 3153, 'WGCL': 3154, 'WHATS': 3155, 'WHEELS': 3156, 'WHFail': 3157, 'WHITE': 3158, 'WHITEHOUSE': 3159, 'WHO': 3160, 'WI': 3161, 'WITH': 3162, 'WMYB': 3163, 'WOMAN': 3164, 'WOMEN': 3165, 'WONDERING': 3166, 'WORD': 3167, 'WORLD': 3168, 'WOW': 3169, 'WSJ': 3170, 'WTH': 3171, 'Walker': 3172, 'Walt': 3173, 'Wants': 3174, 'WarOnWomen': 3175, 'Warin': 3176, 'Warning': 3177, 'Warren': 3178, 'Was': 3179, 'Wash': 3180, 'Wasserman': 3181, 'Water': 3182, 'Watters': 3183, 'Weak': 3184, 'Weekly': 3185, 'Well': 3186, 'West&gt': 3187, 'Western': 3188, 'WhatsBarackHiding': 3189, 'Which': 3190, 'Whites': 3191, 'Whitey': 3192, 'Whoops': 3193, 'Willard': 3194, 'Win': 3195, 'Wine': 3196, 'Wingnut': 3197, 'WoO': 3198, 'Wolf': 3199, 'WomenOnlyCourse': 3200, 'Wonder': 3201, 'Woods': 3202, 'Working': 3203, 'Wow': 3204, 'Writer': 3205, 'YR': 3206, 'Ya': 3207, 'Yeeeaah': 3208, 'Your': 3209, 'Zimmerman': 3210, 'Zombies': 3211, 'a$$': 3212, 'a.k.a': 3213, 'accomplishments': 3214, 'accuse': 3215, 'accuses': 3216, 'achieve': 3217, 'acolytes': 3218, 'across': 3219, 'actions': 3220, 'ada': 3221, 'added': 3222, 'addiction': 3223, 'addition': 3224, 'address': 3225, 'adm': 3226, 'adults': 3227, 'advantage': 3228, 'advisor': 3229, 'afte': 3230, 'agent': 3231, 'agusta': 3232, 'ah': 3233, 'air': 3234, 'ajajajaj': 3235, 'aka': 3236, 'algae': 3237, 'aliens': 3238, 'alive': 3239, 'allegations': 3240, 'alleged': 3241, 'allegedly': 3242, 'allowe': 3243, 'allowed': 3244, 'alone': 3245, 'along': 3246, 'amazing': 3247, 'americans': 3248, 'android': 3249, 'anger': 3250, 'answers': 3251, 'anystreet': 3252, 'anyways': 3253, 'appears': 3254, 'applaud': 3255, 'approved': 3256, 'areas': 3257, 'arkansasboyproblems': 3258, 'arm': 3259, 'arrested': 3260, 'ash': 3261, 'asked': 3262, 'asklessofbusiness': 3263, 'assassination': 3264, 'assassinations': 3265, 'assertion': 3266, 'assign': 3267, 'assinou': 3268, 'assorted': 3269, 'assuming': 3270, 'attacked': 3271, 'attcking': 3272, 'attempt': 3273, 'attention': 3274, 'attorney': 3275, 'audio': 3276, 'aunque': 3277, 'auto': 3278, 'autobiography': 3279, 'avatar': 3280, 'average': 3281, 'avoid': 3282, 'avoiding': 3283, 'awestruck': 3284, 'b4': 3285, 'backfire': 3286, 'backfiring': 3287, 'background': 3288, 'backoffdummies': 3289, 'bailout': 3290, 'bailouts': 3291, 'baiter': 3292, 'banks': 3293, 'banyak': 3294, 'barack': 3295, 'barnstorming': 3296, 'barry': 3297, 'baseball': 3298, 'based': 3299, 'bashes': 3300, 'bastard': 3301, 'battleship': 3302, 'bc': 3303, 'bcot': 3304, 'bear': 3305, 'beating': 3306, 'became': 3307, 'become': 3308, 'becomes': 3309, 'beef': 3310, 'beings': 3311, 'belive': 3312, 'belly': 3313, 'bench': 3314, 'bet': 3315, 'beyond': 3316, 'bias': 3317, 'bieber': 3318, 'biggest': 3319, 'billion': 3320, 'bitch': 3321, 'blast': 3322, 'blog': 3323, 'bloody': 3324, 'blue': 3325, 'blueCity': 3326, 'bogus': 3327, 'boldly': 3328, 'bom': 3329, 'bondage': 3330, 'booty': 3331, 'borders': 3332, 'bored': 3333, 'bound': 3334, 'boy': 3335, 'bracelet': 3336, 'brain': 3337, 'brainer': 3338, 'breakfast': 3339, 'breaks': 3340, 'brilliant': 3341, 'bro': 3342, 'broken': 3343, 'brown': 3344, 'buddies': 3345, 'budgets': 3346, 'build': 3347, 'bus': 3348, 'bush': 3349, 'businesses': 3350, 'button': 3351, 'buy': 3352, 'c': 3353, 'cake': 3354, 'calculate': 3355, 'calculus': 3356, 'caller': 3357, 'calm': 3358, 'campaigns': 3359, 'cantando': 3360, 'cantwait2vote': 3361, 'cap': 3362, 'capitalist': 3363, 'career': 3364, 'caring': 3365, 'cartel': 3366, 'casarte': 3367, 'cat': 3368, 'caught': 3369, 'cbs': 3370, 'celeb': 3371, 'celebrate': 3372, 'celebrities': 3373, 'celebrity': 3374, 'cert': 3375, 'challenge': 3376, 'challenging': 3377, 'champion': 3378, 'changing': 3379, 'channel': 3380, 'character': 3381, 'cheating': 3382, 'check': 3383, 'checked': 3384, 'cheeks': 3385, 'cheezin': 3386, 'choose': 3387, 'citizens': 3388, 'citizenship': 3389, 'civil': 3390, 'claims': 3391, 'click': 3392, 'climbing': 3393, 'clinics': 3394, 'clinton': 3395, 'cnn': 3396, 'co': 3397, 'co.': 3398, 'coats': 3399, 'coincidence': 3400, 'collapse': 3401, 'color': 3402, 'comb': 3403, 'combined': 3404, 'comfort': 3405, 'commie': 3406, 'common': 3407, 'communist': 3408, 'company': 3409, 'comparison': 3410, 'complaining': 3411, 'complete': 3412, 'con': 3413, 'conceded': 3414, 'concedes': 3415, 'conceived': 3416, 'conference': 3417, 'congratulate': 3418, 'congressional': 3419, 'conocieron': 3420, 'consecutive': 3421, 'consists': 3422, 'constantly': 3423, 'constitution': 3424, 'constitutional': 3425, 'contempt': 3426, 'contemptuos': 3427, 'contrast': 3428, 'contributed': 3429, 'controllers': 3430, 'convention': 3431, 'conversation': 3432, 'cops': 3433, 'corollary': 3434, 'correction': 3435, 'cost': 3436, 'couple': 3437, 'couples': 3438, 'covert': 3439, 'cozied': 3440, 'cries': 3441, 'crime': 3442, 'critical': 3443, 'criticism': 3444, 'crush': 3445, 'crying': 3446, 'cryogenically': 3447, 'cuz': 3448, 'd': 3449, 'daggers': 3450, 'dancing': 3451, 'dangerous': 3452, 'days': 3453, 'debacle': 3454, 'deceit': 3455, 'decent': 3456, 'decide': 3457, 'deciding': 3458, 'decisive': 3459, 'deeper': 3460, 'defeat': 3461, 'defeated': 3462, 'defeating': 3463, 'defend': 3464, 'defending': 3465, 'defensive': 3466, 'deficit': 3467, 'definitely': 3468, 'definition': 3469, 'del': 3470, 'demanding': 3471, 'democracy': 3472, 'democrat': 3473, 'dengan': 3474, 'denounce': 3475, 'denounces': 3476, 'depends': 3477, 'describes': 3478, 'deserve': 3479, 'despite': 3480, 'destroyed': 3481, 'destroying': 3482, 'detail': 3483, 'detrimental': 3484, 'development': 3485, 'dey': 3486, 'dial': 3487, 'diamonds': 3488, 'difference': 3489, 'dig': 3490, 'diggin': 3491, 'dignity': 3492, 'dimwit': 3493, 'dings': 3494, 'dinner': 3495, 'direct': 3496, 'direction': 3497, 'directioners': 3498, 'direspect': 3499, 'dirinya': 3500, 'dirty': 3501, 'dis': 3502, 'disagree': 3503, 'disaster': 3504, 'discharge': 3505, 'discuss': 3506, 'disguise': 3507, 'dislikes': 3508, 'divider': 3509, 'divorce': 3510, 'dm': 3511, 'dmv_twitter': 3512, 'documents': 3513, 'dollars': 3514, \"don't\": 3515, 'donated': 3516, 'donor$': 3517, \"dosen't\": 3518, 'double': 3519, 'dove': 3520, 'drama': 3521, 'dreamnt': 3522, 'dressing': 3523, 'driving': 3524, 'drop': 3525, 'drug': 3526, 'dudes': 3527, 'duel': 3528, 'duh': 3529, 'durante': 3530, 'duties': 3531, 'duty': 3532, 'dying': 3533, 'e': 3534, 'eBAY': 3535, 'eager': 3536, 'earn': 3537, 'earned': 3538, 'earth': 3539, 'easier': 3540, 'easily': 3541, 'ebay': 3542, 'econ': 3543, 'econo': 3544, 'economist': 3545, 'edit': 3546, 'educated': 3547, 'eerily': 3548, 'effected': 3549, 'effective': 3550, 'elections2012': 3551, 'electorally': 3552, 'else(i.e': 3553, 'embarrassing': 3554, 'emblematic': 3555, 'embracing': 3556, 'embryonic': 3557, 'emulate': 3558, 'encantaria': 3559, 'ends': 3560, 'enjoy': 3561, 'enough': 3562, 'entertaining': 3563, 'entitlements': 3564, 'entrando': 3565, 'equalization': 3566, 'era': 3567, 'esos': 3568, 'espouses': 3569, 'esta': 3570, 'eve': 3571, 'ex': 3572, 'exceed': 3573, 'exceptionalism': 3574, 'excessive': 3575, 'exchange': 3576, 'executive': 3577, 'exemption': 3578, 'explanations': 3579, 'exposes': 3580, 'extreme': 3581, 'facts': 3582, 'fail': 3583, 'failure': 3584, 'farce': 3585, 'fashion': 3586, 'fave': 3587, 'featured': 3588, 'featuring': 3589, 'feed': 3590, 'feet': 3591, 'fest': 3592, 'fiction': 3593, 'field': 3594, 'fight': 3595, 'figthing': 3596, 'figured': 3597, 'file': 3598, 'film': 3599, 'final': 3600, 'financial': 3601, 'financing': 3602, 'fine': 3603, 'firing': 3604, 'fix': 3605, 'flap': 3606, 'flipper': 3607, 'floor': 3608, 'flushing': 3609, 'fmr': 3610, 'followed': 3611, 'following': 3612, 'food': 3613, 'foodstamps': 3614, 'fool': 3615, 'fooled': 3616, 'fooling': 3617, 'foot': 3618, 'footrace': 3619, 'forces': 3620, 'forever': 3621, 'forgot': 3622, 'fortitude': 3623, 'forward.@BarackObama': 3624, 'fox': 3625, 'fraud': 3626, 'freedomfever': 3627, 'freedoms': 3628, 'freely': 3629, 'friendlier': 3630, 'fuck': 3631, 'fulfill': 3632, 'full': 3633, 'fundraisers': 3634, 'furiius': 3635, 'futile': 3636, 'futuremoonNewt': 3637, 'galaxy': 3638, 'gallon': 3639, 'gauge': 3640, 'gay|': 3641, 'gen44': 3642, 'generated': 3643, 'genio': 3644, 'genius': 3645, 'getchaObamaon': 3646, 'gets': 3647, 'getting': 3648, 'gif': 3649, 'girlfriends': 3650, 'given': 3651, 'giving': 3652, 'glbt': 3653, 'gloves': 3654, 'glutting': 3655, 'goin': 3656, 'golden': 3657, 'golfers': 3658, 'goon': 3659, 'gop2012': 3660, 'grad': 3661, 'grades': 3662, 'graduate': 3663, 'grain': 3664, 'gray': 3665, 'green': 3666, 'group': 3667, 'groupie': 3668, 'growth': 3669, 'grwth': 3670, 'gt;&gt': 3671, 'gt;RT': 3672, 'gt;__&lt': 3673, 'guarantee': 3674, 'guerra': 3675, 'guilty': 3676, 'guns': 3677, 'hahaha': 3678, 'halved': 3679, 'handle': 3680, 'handsome': 3681, 'harpoons': 3682, 'hater': 3683, 'hatin': 3684, 'heading': 3685, 'heist': 3686, 'hella': 3687, 'helpRomney': 3688, 'helped': 3689, 'hhrs': 3690, 'hi': 3691, 'highest': 3692, 'hija': 3693, 'hijas': 3694, 'himself': 3695, 'hint': 3696, 'hip': 3697, 'historically': 3698, 'hit': 3699, 'hits': 3700, 'hj': 3701, 'holds': 3702, 'home': 3703, 'homes': 3704, 'honestly': 3705, 'honesty': 3706, 'hoping': 3707, 'hora': 3708, 'horribly': 3709, 'hospitals': 3710, 'host': 3711, 'hosting': 3712, 'hotchoclateRomney': 3713, 'hotels': 3714, 'http://t.co/02AQUGPl': 3715, 'http://t.co/06rD6lCL': 3716, 'http://t.co/0NrH7GKj': 3717, 'http://t.co/0TBmBaKB': 3718, 'http://t.co/0TPBphCt': 3719, 'http://t.co/0bk8kViG': 3720, 'http://t.co/0wNSy7T6': 3721, 'http://t.co/14GbcXGO': 3722, 'http://t.co/19Frqx8C': 3723, 'http://t.co/1IiLN01H': 3724, 'http://t.co/1RimJk0Z': 3725, 'http://t.co/1kiskMUC': 3726, 'http://t.co/1nDIfI3y': 3727, 'http://t.co/1yZOM5d9': 3728, 'http://t.co/22GPDvLM': 3729, 'http://t.co/2Yy8Srct': 3730, 'http://t.co/2eaXDiOD': 3731, 'http://t.co/2gnXDo0f': 3732, 'http://t.co/2gtwMBtu': 3733, 'http://t.co/2i4SmoPM': 3734, 'http://t.co/35EWTJG7': 3735, 'http://t.co/37kEFtMg': 3736, 'http://t.co/3Ax22aBB': 3737, 'http://t.co/3COJeZ2F': 3738, 'http://t.co/3qzdFw1C': 3739, 'http://t.co/42Ak8yAq': 3740, 'http://t.co/48O3o6jd': 3741, 'http://t.co/4INNVGfC': 3742, 'http://t.co/4IOwLqh1': 3743, 'http://t.co/4LtEJRbL': 3744, 'http://t.co/4PEbWUGs': 3745, 'http://t.co/4vxMWaZv': 3746, 'http://t.co/5DLIc25x': 3747, 'http://t.co/5EO2RIfx': 3748, 'http://t.co/5QBOVrBw': 3749, 'http://t.co/5XJZbGSV': 3750, 'http://t.co/5xHkGMDg': 3751, 'http://t.co/7UpYOSnI': 3752, 'http://t.co/7W5qni2S': 3753, 'http://t.co/7eq8nebt': 3754, 'http://t.co/7jswRZAQ': 3755, 'http://t.co/89tb9uIl': 3756, 'http://t.co/8Go8oCpf': 3757, 'http://t.co/8HYLEeNW': 3758, 'http://t.co/8IhorwzV': 3759, 'http://t.co/8Mp8Bg3y': 3760, 'http://t.co/8UxiTXT9': 3761, 'http://t.co/8iSanDGS': 3762, 'http://t.co/91ecaJAE': 3763, 'http://t.co/9JQdRBUs': 3764, 'http://t.co/9WGiMra5': 3765, 'http://t.co/9a1deeP0': 3766, 'http://t.co/Au49TLVs': 3767, 'http://t.co/B2cYIX23': 3768, 'http://t.co/B3b4vkeX': 3769, 'http://t.co/BAUROUue': 3770, 'http://t.co/BFzSh3iz': 3771, 'http://t.co/BKn8RpkI': 3772, 'http://t.co/BX2ogeQN': 3773, 'http://t.co/BnBgHZx0': 3774, 'http://t.co/C54NpNfl': 3775, 'http://t.co/C67LiSDV': 3776, 'http://t.co/CK84NpUq': 3777, 'http://t.co/CQpMvkDJ': 3778, 'http://t.co/D9qwckJ3': 3779, 'http://t.co/DHvGqb1Z': 3780, 'http://t.co/DbYlHcSh': 3781, 'http://t.co/DmMaGbBz': 3782, 'http://t.co/DrZl9zwA': 3783, 'http://t.co/Duemei61': 3784, 'http://t.co/EAS8WNVU': 3785, 'http://t.co/EaNtlmO0': 3786, 'http://t.co/EmIhIKWh': 3787, 'http://t.co/FNPrvVDK': 3788, 'http://t.co/G2bb5AIS': 3789, 'http://t.co/G2kQrEmd': 3790, 'http://t.co/G68JEmkz': 3791, 'http://t.co/GHX5maQk': 3792, 'http://t.co/GP27CETj': 3793, 'http://t.co/GTmqufBo': 3794, 'http://t.co/GZDMIGVy': 3795, 'http://t.co/GaLabbKb': 3796, 'http://t.co/H1YRpYlV': 3797, 'http://t.co/HVQfUzgr': 3798, 'http://t.co/HdJiGiMe': 3799, 'http://t.co/Hi8NnhBT': 3800, 'http://t.co/Hl52R0AN': 3801, 'http://t.co/I004oH6s': 3802, 'http://t.co/I4J3Q5uG': 3803, 'http://t.co/IMcTUlsH': 3804, 'http://t.co/IP2xu3cW': 3805, 'http://t.co/IZXRte2e': 3806, 'http://t.co/Iw3pz7fy': 3807, 'http://t.co/JGbJwE9Z': 3808, 'http://t.co/JJQ5DfKb': 3809, 'http://t.co/JaHy0cnn': 3810, 'http://t.co/JdrQZSJr': 3811, 'http://t.co/JqlUcpRc': 3812, 'http://t.co/KW9dn9wq': 3813, 'http://t.co/KeC3MhTg': 3814, 'http://t.co/L5xqNFfD': 3815, 'http://t.co/LSCUC7P4': 3816, 'http://t.co/LdPffo7a': 3817, 'http://t.co/LojgGtGT': 3818, 'http://t.co/LuObjd1': 3819, 'http://t.co/MNq3PqOp': 3820, 'http://t.co/MhF1hyPC': 3821, 'http://t.co/MpMYwNyi': 3822, 'http://t.co/MuLmPaB2': 3823, 'http://t.co/MuovhZSc': 3824, 'http://t.co/MzerPkAh': 3825, 'http://t.co/NCe2nJzX': 3826, 'http://t.co/NDp6dISb': 3827, 'http://t.co/NKCZ0YqD.': 3828, 'http://t.co/NU1LDv2R': 3829, 'http://t.co/Ng1MH6hO': 3830, 'http://t.co/NkIYIkj1': 3831, 'http://t.co/NqjjCWMB': 3832, 'http://t.co/OGi7SdUq': 3833, 'http://t.co/OGyR4YUk': 3834, 'http://t.co/ONKneI5X': 3835, 'http://t.co/ONvpI8jR': 3836, 'http://t.co/OSb2gr3f': 3837, 'http://t.co/OTpHamKc': 3838, 'http://t.co/OVkDyuX9': 3839, 'http://t.co/Oqebcdlc': 3840, 'http://t.co/OtHTaRDK': 3841, 'http://t.co/PFmSWQsU': 3842, 'http://t.co/PVKrepqI': 3843, 'http://t.co/PsXJ71R3': 3844, 'http://t.co/Pu73AOEV': 3845, 'http://t.co/PxooFjTO': 3846, 'http://t.co/QDV1qQKn': 3847, 'http://t.co/QJYdOvLj': 3848, 'http://t.co/QTdmKZQe': 3849, 'http://t.co/R0LJqx8X': 3850, 'http://t.co/R80dwTeD': 3851, 'http://t.co/REuKvbgg': 3852, 'http://t.co/RQQpZJHd': 3853, 'http://t.co/RaKHSwfn': 3854, 'http://t.co/RhSzoEU7': 3855, 'http://t.co/RoLLLTt2': 3856, 'http://t.co/RpPh3u0V': 3857, 'http://t.co/S4UHjSVS': 3858, 'http://t.co/S5H0Er1B': 3859, 'http://t.co/S8YeopCr': 3860, 'http://t.co/S8lPX0SZ': 3861, 'http://t.co/SELMj7zZ': 3862, 'http://t.co/SGo5zdHy': 3863, 'http://t.co/SPn6jMXH': 3864, 'http://t.co/SaQa8V5w': 3865, 'http://t.co/Shv83Z0F': 3866, 'http://t.co/Sm9s2o9i': 3867, 'http://t.co/Su79rpyv': 3868, 'http://t.co/T4aopGDD': 3869, 'http://t.co/T8Mfzi0i': 3870, 'http://t.co/TGgLdkOo': 3871, 'http://t.co/TUqvEApu': 3872, 'http://t.co/Taa46B8j': 3873, 'http://t.co/TlfMmi0': 3874, 'http://t.co/UbLfVfdK': 3875, 'http://t.co/UejtlmGt': 3876, 'http://t.co/UiNfpoYP': 3877, 'http://t.co/UlXo9kp3': 3878, 'http://t.co/UnVSPmdy': 3879, 'http://t.co/UxKlvxaj': 3880, 'http://t.co/VGCUvWQN': 3881, 'http://t.co/W761OyXD': 3882, 'http://t.co/WCtllWno': 3883, 'http://t.co/WEbFZPlb': 3884, 'http://t.co/WI0ajzJX': 3885, 'http://t.co/WIDZGjRj': 3886, 'http://t.co/WYKgE3LZ': 3887, 'http://t.co/X8fkVleu': 3888, 'http://t.co/XjuQrb5w': 3889, 'http://t.co/XliEIxvs': 3890, 'http://t.co/XpHKzt5Y': 3891, 'http://t.co/XpXJJp9c': 3892, 'http://t.co/XwY62sep': 3893, 'http://t.co/YT7rGVL9': 3894, 'http://t.co/Yd8jzwoV': 3895, 'http://t.co/YtzeLXMt': 3896, 'http://t.co/YuBShHrj': 3897, 'http://t.co/Z2BCceVk': 3898, 'http://t.co/Z552mkRl': 3899, 'http://t.co/Zgsh2zyo': 3900, 'http://t.co/ZqAuGKOd': 3901, 'http://t.co/ZuKdTidE': 3902, 'http://t.co/aKzIOEDM': 3903, 'http://t.co/aViCL1rV': 3904, 'http://t.co/ab54HUve': 3905, 'http://t.co/asaEviZ5': 3906, 'http://t.co/avHENxrg': 3907, 'http://t.co/b7hy5nu1': 3908, 'http://t.co/bKUGLufH': 3909, 'http://t.co/bfC4gbBW': 3910, 'http://t.co/bgk2uOdY': 3911, 'http://t.co/cNr0Sr3c': 3912, 'http://t.co/cnHRuUBZ': 3913, 'http://t.co/cuHdVHYv': 3914, 'http://t.co/d2X461u2': 3915, 'http://t.co/d2tf13n0': 3916, 'http://t.co/dFTjxuKB': 3917, 'http://t.co/dKy7CI8': 3918, 'http://t.co/eEqWimgY': 3919, 'http://t.co/eamVPg6w': 3920, 'http://t.co/fCuFtbWm': 3921, 'http://t.co/fFZKYkLF': 3922, 'http://t.co/g5qKE6RS': 3923, 'http://t.co/gHQ3NrWP': 3924, 'http://t.co/gIb7UzdC': 3925, 'http://t.co/gVSs6ulN': 3926, 'http://t.co/gb87afx1': 3927, 'http://t.co/gk6vL04x': 3928, 'http://t.co/go9toJ8e': 3929, 'http://t.co/goZv1VU1': 3930, 'http://t.co/gpdr1y1C': 3931, 'http://t.co/hRbM9jal': 3932, 'http://t.co/hbWWnakJ': 3933, 'http://t.co/iR2DAMfM': 3934, 'http://t.co/j3K58zDO': 3935, 'http://t.co/j92pfp6': 3936, 'http://t.co/j9IJJsL5': 3937, 'http://t.co/kJdeKfKg': 3938, 'http://t.co/kexX62X8': 3939, 'http://t.co/l9LEKN8f': 3940, 'http://t.co/lFYgXSNS': 3941, 'http://t.co/ld3uspIs': 3942, 'http://t.co/ltBrqsgc': 3943, 'http://t.co/m3LFBhGY': 3944, 'http://t.co/mU1aHVLs': 3945, 'http://t.co/maoLb5Ia': 3946, 'http://t.co/mm4eGrZJ': 3947, 'http://t.co/mpTGvRvw': 3948, 'http://t.co/nAESlKQ9': 3949, 'http://t.co/nATmWclx': 3950, 'http://t.co/nBAjvfWA': 3951, 'http://t.co/njCfZuSd': 3952, 'http://t.co/ntzCSGeW': 3953, 'http://t.co/nxXJrxZe': 3954, 'http://t.co/oLxGUJE0': 3955, 'http://t.co/oSLQ94QM': 3956, 'http://t.co/oVMu9fKA': 3957, 'http://t.co/oZUoyoNN': 3958, 'http://t.co/oohsPWzs': 3959, 'http://t.co/p2vrYRFz': 3960, 'http://t.co/pAe0TYYI': 3961, 'http://t.co/pKDwxfGK': 3962, 'http://t.co/pS9fQaaL': 3963, 'http://t.co/pWArEGsR': 3964, 'http://t.co/pbY99uec': 3965, 'http://t.co/pp8XLXM4': 3966, 'http://t.co/q04cVYix': 3967, 'http://t.co/q5iS0Fyq': 3968, 'http://t.co/qCKXeVlI': 3969, 'http://t.co/qHrUeEoO': 3970, 'http://t.co/qSQXWxnl': 3971, 'http://t.co/qSyEjCZR': 3972, 'http://t.co/qxcmS5HU': 3973, 'http://t.co/rVWI6S1Y': 3974, 'http://t.co/rXWlPBKQ': 3975, 'http://t.co/rhDUtpLs': 3976, 'http://t.co/sCw6mZVz': 3977, 'http://t.co/sTR0vyJK': 3978, 'http://t.co/sVTTAKbW': 3979, 'http://t.co/sYSnUwUJ': 3980, 'http://t.co/sqG7ysWO': 3981, 'http://t.co/t9xniyJG': 3982, 'http://t.co/tFame7bZ': 3983, 'http://t.co/tIS5Umhh': 3984, 'http://t.co/ta0Gs2Su': 3985, 'http://t.co/taquWJUt': 3986, 'http://t.co/tmsSKR0': 3987, 'http://t.co/u0GrbKfi': 3988, 'http://t.co/uJwEroyW': 3989, 'http://t.co/uMDAWA7X': 3990, 'http://t.co/uMhu62nd': 3991, 'http://t.co/uOkvibi8': 3992, 'http://t.co/uddCXCjt': 3993, 'http://t.co/v68EEZhl': 3994, 'http://t.co/vHxp18EN': 3995, 'http://t.co/vQ7vnrdC': 3996, 'http://t.co/vbHf1w9e': 3997, 'http://t.co/vdBXgsyk': 3998, 'http://t.co/vvaTNwON': 3999, 'http://t.co/w0cUHRM5': 4000, 'http://t.co/w4gUGJIG': 4001, 'http://t.co/w77vkYru': 4002, 'http://t.co/wJVdoGyI': 4003, 'http://t.co/x40FUeqV': 4004, 'http://t.co/x5vw6vy4': 4005, 'http://t.co/xQMcasBa': 4006, 'http://t.co/xYdHGtKJ': 4007, 'http://t.co/xcNDC7jK': 4008, 'http://t.co/xluoi3GU': 4009, 'http://t.co/y1W2HmGS': 4010, 'http://t.co/ySzwNRxV': 4011, 'http://t.co/yg8Wl99P': 4012, 'http://t.co/yhJ55xhM': 4013, 'http://t.co/zHiGQqZi': 4014, 'http://t.co/zHkcmmyb': 4015, 'http://t.co/zcSKd1Jd': 4016, 'http://t.co/zejRChDn': 4017, 'http://t.co/zhKx6rQE': 4018, 'http://t.co/zkUbbBVN': 4019, 'http://t.co/zpg0TVm3': 4020, 'http://t.co/zq6zC4ZO': 4021, 'humor': 4022, 'hundreds': 4023, 'hypocritical': 4024, 'hypocriticalmarxist': 4025, 'i5800': 4026, 'icing': 4027, 'idiotic': 4028, 'ignorant': 4029, 'ignoring': 4030, 'illogical': 4031, 'illuminati': 4032, 'image': 4033, 'images': 4034, 'impeach': 4035, 'implying': 4036, 'improve': 4037, 'improvements': 4038, 'including': 4039, 'increased': 4040, 'increases': 4041, 'ind': 4042, 'indefensible': 4043, 'indicted': 4044, 'indicts': 4045, 'inept': 4046, 'inferred': 4047, 'inflation': 4048, 'initial': 4049, 'inside': 4050, 'insider': 4051, 'insult': 4052, 'integrity': 4053, 'intellectual': 4054, 'intended': 4055, 'intense': 4056, 'interesante': 4057, 'interesting': 4058, 'intimidate': 4059, 'intimidation': 4060, 'invest': 4061, 'investigation': 4062, 'involved': 4063, 'involvement': 4064, 'it&gt': 4065, 'ix': 4066, 'j': 4067, 'jadwal': 4068, 'jail': 4069, 'jargon': 4070, 'jealous': 4071, 'jerk': 4072, 'jobs&lt;Romney': 4073, 'join': 4074, 'joins': 4075, 'joking': 4076, 'journalism': 4077, 'judges': 4078, 'judiciary': 4079, 'justices': 4080, 'justin': 4081, 'justsayin': 4082, 'keeps': 4083, 'kicking': 4084, 'kidding': 4085, 'kill': 4086, 'kingdom': 4087, 'kisser': 4088, 'knew': 4089, 'knock': 4090, 'knowledge': 4091, 'knows': 4092, 'lack': 4093, 'lados': 4094, 'landmark': 4095, 'langsung': 4096, 'large': 4097, 'lately': 4098, 'laugh': 4099, 'laughing': 4100, 'launches': 4101, 'lavish': 4102, 'lawyer': 4103, 'lazymansmall': 4104, 'leading': 4105, 'learn': 4106, 'leave': 4107, 'lede': 4108, 'legalized': 4109, 'legitimacy': 4110, 'lets': 4111, 'liar': 4112, 'liberalism': 4113, 'liberty': 4114, 'life': 4115, 'light': 4116, 'limit': 4117, 'limited': 4118, \"line'--Times\": 4119, 'liquid': 4120, 'listen': 4121, 'listening': 4122, 'lives': 4123, 'living': 4124, 'lmfao': 4125, 'loan': 4126, 'locked': 4127, 'logic': 4128, 'logo': 4129, 'logos': 4130, 'longstanding': 4131, 'looked': 4132, 'lose': 4133, 'losers': 4134, 'lovers': 4135, 'lower': 4136, 'lowering': 4137, 'loyal': 4138, 'luck': 4139, 'luncheon': 4140, 'lying': 4141, 'machine': 4142, 'macro': 4143, 'mad': 4144, 'mail': 4145, 'makin': 4146, 'mande': 4147, 'manipulative': 4148, 'marched': 4149, 'marine': 4150, 'marxist': 4151, 'massive': 4152, 'matter': 4153, 'mature': 4154, 'maybe': 4155, 'me-': 4156, 'means': 4157, 'mejor': 4158, 'member': 4159, 'menghadiri': 4160, 'menjadi': 4161, 'merits': 4162, 'messing': 4163, 'met': 4164, 'middle': 4165, 'miggity': 4166, 'might': 4167, 'mike': 4168, 'milquetoast': 4169, 'min': 4170, 'mind': 4171, 'minute': 4172, 'mirrors': 4173, 'mish': 4174, 'misiles': 4175, 'missile': 4176, 'missiles': 4177, 'missions': 4178, 'misunderstanding': 4179, 'mittless': 4180, 'mode': 4181, 'modern': 4182, 'mom': 4183, 'moment': 4184, 'moneymaker': 4185, 'moon': 4186, 'morning': 4187, 'morons': 4188, 'mourning': 4189, 'movie': 4190, 'moving': 4191, 'much&WE': 4192, 'muito': 4193, 'mullahs': 4194, 'multi': 4195, 'muscle': 4196, 'music': 4197, 'narrative': 4198, 'narrow': 4199, 'nation': 4200, 'naw': 4201, 'ndaa': 4202, 'necessary': 4203, 'negative': 4204, 'neighborhood': 4205, 'newest': 4206, 'newly': 4207, 'newt': 4208, 'nice': 4209, 'nigg': 4210, 'niggas': 4211, 'nigger': 4212, 'noises': 4213, 'nominee': 4214, 'nonsense': 4215, 'nosing': 4216, 'notactuallyconfirmed': 4217, 'nottt': 4218, 'nra': 4219, 'nueva': 4220, 'number': 4221, 'oath': 4222, 'obama?&lt': 4223, 'obsession': 4224, 'occupy': 4225, 'odds': 4226, 'offensive': 4227, 'offer': 4228, 'officer': 4229, 'offices': 4230, 'oh': 4231, 'okay': 4232, 'old': 4233, 'ole': 4234, 'open': 4235, 'opened': 4236, 'opinion': 4237, 'opone': 4238, 'oppo': 4239, 'opportunity': 4240, 'option': 4241, 'orchestrated': 4242, 'order': 4243, 'ordering': 4244, 'orders': 4245, 'ordinary': 4246, 'organization': 4247, 'organizations': 4248, 'organizing': 4249, 'ormathorscienceorhistoryorteleprompterrepair': 4250, 'outta': 4251, 'oversold': 4252, 'owes': 4253, 'own': 4254, 'oxy': 4255, 'papers': 4256, 'parking': 4257, 'parties': 4258, 'passport': 4259, 'passports': 4260, 'patriot': 4261, 'paying': 4262, 'payments': 4263, 'paz': 4264, 'percent': 4265, 'perfectly': 4266, 'perform': 4267, 'personally': 4268, 'petition': 4269, 'phonyAnn': 4270, 'pierced': 4271, 'piling': 4272, 'pitching': 4273, 'place': 4274, 'places': 4275, 'please': 4276, 'plot': 4277, 'pockets': 4278, 'pointing': 4279, 'poll': 4280, 'polling': 4281, 'poor': 4282, 'porque': 4283, 'portray': 4284, 'posed': 4285, 'position': 4286, 'positive': 4287, 'posted': 4288, 'pouting': 4289, 'prank': 4290, 'pray': 4291, 'prayer': 4292, 'prayersgoup': 4293, 'precedents': 4294, 'precious': 4295, 'preemptive': 4296, 'premios': 4297, 'prepara': 4298, 'presiden': 4299, 'presidental': 4300, 'presidents': 4301, 'pressure': 4302, 'prettiest': 4303, 'pretzel': 4304, 'prez': 4305, 'private': 4306, 'pro': 4307, 'problem': 4308, 'professionals': 4309, 'profiling': 4310, 'prohibit': 4311, 'prohibits': 4312, 'projects': 4313, 'promises': 4314, 'proof': 4315, 'propogating': 4316, 'prove': 4317, 'proves': 4318, 'pt': 4319, 'pure': 4320, 'queen': 4321, 'queer': 4322, 'questioning': 4323, 'questions': 4324, 'quickstory': 4325, 'quisiera': 4326, 'quite': 4327, 'quitting': 4328, 'racial': 4329, 'racism': 4330, 'racists': 4331, 'radical': 4332, 'rally': 4333, 'range': 4334, 'rap': 4335, 'rat': 4336, 'rather': 4337, 'rats': 4338, 'reader': 4339, 'reality': 4340, 'reborn': 4341, 'rebounds': 4342, 'recap': 4343, 'recent': 4344, 'recession': 4345, 'recipe': 4346, 'recorded': 4347, 'records?RT': 4348, 'redistribution': 4349, 'redstate': 4350, 'refused': 4351, 'registered': 4352, 'regulations': 4353, 'related': 4354, 'relationship': 4355, 'reliable': 4356, 'remain': 4357, 'remember': 4358, 'remind': 4359, 'rent': 4360, \"rep.act'g\": 4361, 'repeal': 4362, 'replacement': 4363, 'reporter': 4364, 'representing': 4365, 'republicans': 4366, 'resort': 4367, 'result': 4368, 'retreat': 4369, 'return': 4370, 'retweet': 4371, 'reversed': 4372, 'review': 4373, 'reviewing': 4374, 'riding': 4375, 'rift': 4376, 'rising': 4377, 'rnc': 4378, 'ronpaul': 4379, 'rules': 4380, 'ruling': 4381, 'rumor': 4382, 'running': 4383, 'sale': 4384, 'salt': 4385, 'samsung': 4386, 'santorum': 4387, 'save': 4388, 'saved': 4389, 'savings': 4390, 'saw': 4391, 'sayfie': 4392, 'sayin': 4393, 'saywhatttt': 4394, 'scam': 4395, 'scared': 4396, 'scenarios': 4397, 'scheme': 4398, 'science': 4399, 'scoop': 4400, 'se': 4401, 'seat': 4402, 'seats': 4403, 'sec.card': 4404, 'second': 4405, 'secretive': 4406, 'selling': 4407, 'senate': 4408, 'senator': 4409, 'send': 4410, 'ser': 4411, 'seriously': 4412, 'serve': 4413, 'sexismo': 4414, 'sh*t': 4415, 'shake': 4416, 'shameonyou': 4417, 'ship': 4418, 'shirt': 4419, 'shocking': 4420, 'showed': 4421, 'shows': 4422, 'sickening': 4423, 'sides': 4424, 'signal': 4425, 'signature': 4426, 'significant': 4427, 'similar': 4428, 'similarity': 4429, 'sinners': 4430, 'sis': 4431, 'sixty': 4432, 'skeletons': 4433, 'skin': 4434, 'sleep': 4435, 'sliccck': 4436, 'smell': 4437, 'smh': 4438, 'smith': 4439, 'smoke': 4440, 'snafu': 4441, 'solar': 4442, 'sold': 4443, 'songs': 4444, 'sopa': 4445, 'sounds': 4446, 'soy': 4447, 'speak': 4448, 'speakers': 4449, 'speakes': 4450, 'speaking': 4451, 'spectacle': 4452, 'speech': 4453, 'speed': 4454, 'spell': 4455, 'spells': 4456, 'spent': 4457, 'spills': 4458, 'spins': 4459, 'spokesman': 4460, 'sprawl': 4461, 'spur': 4462, 'spy': 4463, 'ssm': 4464, 'staffers': 4465, 'stale': 4466, 'staring': 4467, 'started': 4468, 'starts': 4469, 'stash': 4470, 'statement': 4471, 'stats': 4472, 'steal': 4473, 'stem': 4474, 'step': 4475, 'stereotypes': 4476, 'stole': 4477, 'stopping': 4478, 'storm': 4479, 'straight': 4480, 'strange': 4481, 'strangest': 4482, 'street': 4483, 'stricter': 4484, 'strike': 4485, 'strip': 4486, 'struggling': 4487, 'stuck': 4488, 'stunt': 4489, 'suck': 4490, 'sucking': 4491, 'sucks': 4492, 'sudden': 4493, 'sue': 4494, 'sued': 4495, 'summer': 4496, 'super': 4497, 'supreme': 4498, 'surge': 4499, 'sus': 4500, 'suspicion': 4501, 'swear': 4502, 'sweet': 4503, 'swift': 4504, 'swore': 4505, 'table': 4506, 'tabloid': 4507, 'tail': 4508, 'tal': 4509, 'tan': 4510, 'targeted': 4511, 'taxpayer': 4512, 'taylor': 4513, 'te': 4514, 'teabagger': 4515, 'tear': 4516, 'technically': 4517, 'teeth': 4518, 'telemarketer': 4519, 'tentang': 4520, 'terpilih': 4521, 'terrorists': 4522, 'thank': 4523, 'thankmelater': 4524, 'theory': 4525, 'thesis': 4526, 'thetwisters': 4527, \"they'll\": 4528, 'thick': 4529, 'thinkaboutit': 4530, 'tho': 4531, 'threatening': 4532, 'ti': 4533, 'ties': 4534, 'til': 4535, 'toilet': 4536, 'took': 4537, 'topic': 4538, 'topics': 4539, 'topprog': 4540, 'torture': 4541, 'tough': 4542, 'toward': 4543, 'trading': 4544, 'traitor': 4545, 'trap': 4546, 'trashing': 4547, 'traveled': 4548, 'traveling': 4549, 'treason': 4550, 'trekkers': 4551, 'triple': 4552, 'trump': 4553, 'trust': 4554, 'tweeters': 4555, 'tweeting': 4556, 'twice': 4557, 'twit': 4558, 'ucla': 4559, 'ultimate': 4560, 'ultra': 4561, 'unconstitutional': 4562, 'undangan': 4563, 'understanding': 4564, 'understimate': 4565, 'underwears': 4566, 'unelected': 4567, 'unite': 4568, 'united': 4569, 'universities': 4570, 'unqualified': 4571, 'unseemly': 4572, 'update': 4573, 'uphold': 4574, 'usaf': 4575, 'usc': 4576, 'uses': 4577, 'usmc': 4578, 'usurped': 4579, 'utter': 4580, 'v': 4581, 'valid': 4582, 'verifiably': 4583, 'verses': 4584, 'versions': 4585, 'vets': 4586, 'vetthepresident': 4587, 'video&gt;&gt;&gt;The': 4588, 'videotape': 4589, 'view': 4590, 'violence': 4591, 'visit': 4592, 'volunteer': 4593, 'volunteered': 4594, 'voodoo': 4595, 'voting': 4596, 'vs.': 4597, 'w/': 4598, 'w/o': 4599, 'waging': 4600, 'walk': 4601, 'wanna': 4602, 'warming': 4603, 'warn': 4604, 'wars': 4605, 'waterboard': 4606, 'wave': 4607, 'weaknesses': 4608, 'weasel': 4609, 'web': 4610, 'website': 4611, 'wethepeople': 4612, 'whale': 4613, 'whatsObamahiding': 4614, 'whatsRomneyHiding': 4615, 'whatsobamahiding': 4616, 'whether': 4617, 'whim': 4618, 'whine': 4619, 'whiny': 4620, 'whistleblower': 4621, 'whiter': 4622, 'whores': 4623, 'wil': 4624, 'wild': 4625, 'wilding': 4626, 'winger': 4627, 'without': 4628, 'women&sends': 4629, 'wondering': 4630, 'woods': 4631, 'wooo': 4632, 'working': 4633, 'works': 4634, 'world&still': 4635, 'worse': 4636, 'worshippers': 4637, 'wrist': 4638, 'write': 4639, 'wtf': 4640, 'x': 4641, \"y'\": 4642, 'yea': 4643, 'yes': 4644, 'yesterday': 4645, 'youngsters': 4646, 'yourself': 4647, 'yup': 4648, 'zip': 4649, 'zone': 4650, '|#lgbt': 4651, '~': 4652})\n"
          ]
        }
      ]
    },
    {
      "cell_type": "code",
      "metadata": {
        "id": "L8HxIVsE-0rK"
      },
      "source": [
        "device = torch.device(\"cuda\" if torch.cuda.is_available() else \"cpu\")"
      ],
      "execution_count": 135,
      "outputs": []
    },
    {
      "cell_type": "code",
      "metadata": {
        "id": "DJbEqjZC-4JR"
      },
      "source": [
        "train_iterator, valid_iterator = data.BucketIterator.splits((train, valid), batch_size = 20, \n",
        "                                                            sort_key = lambda x: len(x.tweets),\n",
        "                                                            sort_within_batch=True, device = device)"
      ],
      "execution_count": 136,
      "outputs": []
    },
    {
      "cell_type": "code",
      "metadata": {
        "id": "hLbh3E57-5jf"
      },
      "source": [
        "import os, pickle\n",
        "with open('tokenizer.pkl', 'wb') as tokens: \n",
        "    pickle.dump(Tweet.vocab.stoi, tokens)\n",
        "# len(Tweet.vocab)"
      ],
      "execution_count": 137,
      "outputs": []
    },
    {
      "cell_type": "code",
      "metadata": {
        "id": "vPR82mQi_F3P"
      },
      "source": [
        "import torch.nn as nn\n",
        "import torch.nn.functional as F\n",
        "\n",
        "class classifier(nn.Module):\n",
        "    \n",
        "    # Define all the layers used in model\n",
        "    def __init__(self, vocab_size, embedding_dim, hidden_dim, output_dim, n_layers, dropout):\n",
        "        \n",
        "        super().__init__()          \n",
        "        \n",
        "        # Embedding layer\n",
        "        self.embedding = nn.Embedding(vocab_size, embedding_dim)\n",
        "        \n",
        "        # LSTM layer \n",
        "        # self.encoder = nn.LSTM(embedding_dim, \n",
        "        #                    hidden_dim, \n",
        "        #                    num_layers=n_layers, \n",
        "        #                    dropout=dropout,\n",
        "        #                    batch_first=True)\n",
        "        # self.encoder = nn.RNN(embedding_dim, hidden_dim, num_layers = n_layers,dropout=dropout,batch_first=True )  # RNN\n",
        "        # self.encoder = nn.GRU(embedding_dim, \n",
        "        #                    hidden_dim, \n",
        "        #                    num_layers=n_layers, \n",
        "        #                    dropout=dropout,\n",
        "        #                    batch_first=True)\n",
        "        self.encoder = nn.LSTM(embedding_dim, \n",
        "                           hidden_dim, \n",
        "                           num_layers=n_layers, \n",
        "                           dropout=dropout,\n",
        "                           batch_first=True, bidirectional= True)\n",
        "        # try using nn.GRU or nn.RNN here and compare their performances\n",
        "        # try bidirectional and compare their performances\n",
        "        \n",
        "        # Dense layer\n",
        "        self.fc = nn.Linear(hidden_dim, output_dim)\n",
        "        \n",
        "    def forward(self, text, text_lengths):\n",
        "        # print('Step 1', text.shape, (text.data.shape)) # [32, 15] - 32 (batch size) sentences with 15 word max\n",
        "        # text = [batch size, sent_length]  \n",
        "        embedded = self.embedding(text)\n",
        "        # embedded = [batch size, sent_len, emb dim]  \n",
        "        # print('Step 2', embedded.shape)  # [32, 15, 300] - 32 sentences with 15 word max and each word with 300d embedding\n",
        "        # packed sequence\n",
        "        packed_embedded = nn.utils.rnn.pack_padded_sequence(embedded, text_lengths.cpu(), batch_first=True)\n",
        "        # print('Step 3', packed_embedded.data.shape)  # [476, 300])  # 476 total words in 32 sentences and each word has 300 dim embedding. This excludes <pad> and <unk> sequences in input\n",
        "\n",
        "        packed_output, (hidden, cell) = self.encoder(packed_embedded) # LSTM\n",
        "        # packed_output, hidden = self.encoder(packed_embedded) # RNN\n",
        "        # packed_output, (hidden) = self.encoder(packed_embedded) # GRU\n",
        "        #hidden = [batch size, num layers * num directions,hid dim]\n",
        "        #cell = [batch size, num layers * num directions,hid dim]\n",
        "        # print('Step 4', hidden.shape) # torch.Size([2, 32, 100]) - 2 layers of LSTM with 32 output words (output of LSTM is a word not a sentence) and 100 as hidden layer dimension\n",
        "        # Hidden = [batch size, hid dim * num directions]\n",
        "\n",
        "        dense_outputs = self.fc(hidden)   \n",
        "        # print('Step 5', dense_outputs.shape)# torch.Size([2, 32, 3]) \n",
        "\n",
        "        # Final activation function softmax\n",
        "        output = F.softmax(dense_outputs[0], dim=1)\n",
        "        # print('Step 6', output.shape)    # torch.Size([32, 3])  # 32 words for each of input sentences with 3 outputs coming out as relative probabilities.\n",
        "        return output\n"
      ],
      "execution_count": 138,
      "outputs": []
    },
    {
      "cell_type": "code",
      "metadata": {
        "id": "cl-0gGIa_hHd",
        "outputId": "70ebf353-eb95-40dc-8cd9-f3998f179eab",
        "colab": {
          "base_uri": "https://localhost:8080/"
        }
      },
      "source": [
        "# Define hyperparameters\n",
        "size_of_vocab = len(Tweet.vocab)\n",
        "embedding_dim = 300\n",
        "num_hidden_nodes = 100\n",
        "num_output_nodes = 3\n",
        "num_layers = 1\n",
        "dropout = 0.2\n",
        "\n",
        "# Instantiate the model\n",
        "model = classifier(size_of_vocab, embedding_dim, num_hidden_nodes, num_output_nodes, num_layers, dropout = dropout)"
      ],
      "execution_count": 139,
      "outputs": [
        {
          "output_type": "stream",
          "name": "stderr",
          "text": [
            "/usr/local/lib/python3.8/dist-packages/torch/nn/modules/rnn.py:60: UserWarning: dropout option adds dropout after all but last recurrent layer, so non-zero dropout expects num_layers greater than 1, but got dropout=0.2 and num_layers=1\n",
            "  warnings.warn(\"dropout option adds dropout after all but last \"\n"
          ]
        }
      ]
    },
    {
      "cell_type": "code",
      "metadata": {
        "colab": {
          "base_uri": "https://localhost:8080/"
        },
        "id": "W3p2xTvf_mna",
        "outputId": "404da830-c1c1-4694-b1e7-3e5a6c77bc51"
      },
      "source": [
        "print(model)\n",
        "\n",
        "#No. of trianable parameters\n",
        "def count_parameters(model):\n",
        "    return sum(p.numel() for p in model.parameters() if p.requires_grad)\n",
        "    \n",
        "print(f'The model has {count_parameters(model):,} trainable parameters')\n",
        "\n",
        "for name, param in model.named_parameters():\n",
        "    if param.requires_grad:\n",
        "        print(name, param.data.shape)  # 5*3 not 3*5; same is issue with hidden weights"
      ],
      "execution_count": 140,
      "outputs": [
        {
          "output_type": "stream",
          "name": "stdout",
          "text": [
            "classifier(\n",
            "  (embedding): Embedding(4653, 300)\n",
            "  (encoder): LSTM(300, 100, batch_first=True, dropout=0.2, bidirectional=True)\n",
            "  (fc): Linear(in_features=100, out_features=3, bias=True)\n",
            ")\n",
            "The model has 1,717,803 trainable parameters\n",
            "embedding.weight torch.Size([4653, 300])\n",
            "encoder.weight_ih_l0 torch.Size([400, 300])\n",
            "encoder.weight_hh_l0 torch.Size([400, 100])\n",
            "encoder.bias_ih_l0 torch.Size([400])\n",
            "encoder.bias_hh_l0 torch.Size([400])\n",
            "encoder.weight_ih_l0_reverse torch.Size([400, 300])\n",
            "encoder.weight_hh_l0_reverse torch.Size([400, 100])\n",
            "encoder.bias_ih_l0_reverse torch.Size([400])\n",
            "encoder.bias_hh_l0_reverse torch.Size([400])\n",
            "fc.weight torch.Size([3, 100])\n",
            "fc.bias torch.Size([3])\n"
          ]
        }
      ]
    },
    {
      "cell_type": "code",
      "metadata": {
        "id": "0Hca3vKT_n6o"
      },
      "source": [
        "import torch.optim as optim\n",
        "\n",
        "# define optimizer and loss\n",
        "optimizer = optim.Adam(model.parameters(), lr=2e-4)\n",
        "criterion = nn.CrossEntropyLoss()\n",
        "\n",
        "# define metric\n",
        "def binary_accuracy(preds, y):\n",
        "    #round predictions to the closest integer\n",
        "    _, predictions = torch.max(preds, 1)\n",
        "    \n",
        "    correct = (predictions == y).float() \n",
        "    acc = correct.sum() / len(correct)\n",
        "    return acc\n",
        "    \n",
        "# push to cuda if available\n",
        "model = model.to(device)\n",
        "criterion = criterion.to(device)"
      ],
      "execution_count": 141,
      "outputs": []
    },
    {
      "cell_type": "code",
      "metadata": {
        "id": "EnYbj0xl_xZA"
      },
      "source": [
        "def train(model, iterator, optimizer, criterion):\n",
        "    \n",
        "    # initialize every epoch \n",
        "    epoch_loss = 0\n",
        "    epoch_acc = 0\n",
        "    \n",
        "    # set the model in training phase\n",
        "    model.train()  \n",
        "    \n",
        "    for batch in iterator:\n",
        "        \n",
        "        # resets the gradients after every batch\n",
        "        optimizer.zero_grad()   \n",
        "        \n",
        "        # retrieve text and no. of words\n",
        "        tweet, tweet_lengths = batch.tweets   \n",
        "        # print('seperate', tweet)\n",
        "        \n",
        "        # convert to 1D tensor\n",
        "        predictions = model(tweet, tweet_lengths).squeeze()  \n",
        "        \n",
        "        # compute the loss\n",
        "        loss = criterion(predictions, batch.labels)        \n",
        "        \n",
        "        # compute the binary accuracy\n",
        "        acc = binary_accuracy(predictions, batch.labels)   \n",
        "        \n",
        "        # backpropage the loss and compute the gradients\n",
        "        loss.backward()       \n",
        "        \n",
        "        # update the weights\n",
        "        optimizer.step()      \n",
        "        \n",
        "        # loss and accuracy\n",
        "        epoch_loss += loss.item()  \n",
        "        epoch_acc += acc.item()    \n",
        "        \n",
        "    return epoch_loss / len(iterator), epoch_acc / len(iterator)"
      ],
      "execution_count": 142,
      "outputs": []
    },
    {
      "cell_type": "code",
      "metadata": {
        "id": "v0NKatGd_03X"
      },
      "source": [
        "def evaluate(model, iterator, criterion):\n",
        "    \n",
        "    # initialize every epoch\n",
        "    epoch_loss = 0\n",
        "    epoch_acc = 0\n",
        "\n",
        "    # deactivating dropout layers\n",
        "    model.eval()\n",
        "    \n",
        "    # deactivates autograd\n",
        "    with torch.no_grad():\n",
        "    \n",
        "        for batch in iterator:\n",
        "        \n",
        "            # retrieve text and no. of words\n",
        "            tweet, tweet_lengths = batch.tweets\n",
        "            \n",
        "            # convert to 1d tensor\n",
        "            predictions = model(tweet, tweet_lengths).squeeze()\n",
        "            \n",
        "            # compute loss and accuracy\n",
        "            loss = criterion(predictions, batch.labels)\n",
        "            acc = binary_accuracy(predictions, batch.labels)\n",
        "            \n",
        "            # keep track of loss and accuracy\n",
        "            epoch_loss += loss.item()\n",
        "            epoch_acc += acc.item()\n",
        "        \n",
        "    return epoch_loss / len(iterator), epoch_acc / len(iterator)"
      ],
      "execution_count": 143,
      "outputs": []
    },
    {
      "cell_type": "code",
      "metadata": {
        "colab": {
          "base_uri": "https://localhost:8080/"
        },
        "id": "Rp2_00ia_2Ox",
        "outputId": "76d07d1c-d65d-44ba-b91f-2bd577a7be9a"
      },
      "source": [
        "N_EPOCHS = 10\n",
        "best_valid_loss = float('inf')\n",
        "\n",
        "for epoch in range(N_EPOCHS):\n",
        "     \n",
        "    # train the model\n",
        "    train_loss, train_acc = train(model, train_iterator, optimizer, criterion)\n",
        "    \n",
        "    # evaluate the model\n",
        "    valid_loss, valid_acc = evaluate(model, valid_iterator, criterion)\n",
        "    \n",
        "    # save the best model\n",
        "    if valid_loss < best_valid_loss:\n",
        "        best_valid_loss = valid_loss\n",
        "        torch.save(model.state_dict(), 'saved_weights.pt')\n",
        "    \n",
        "    print(f'\\tTrain Loss: {train_loss:.3f} | Train Acc: {train_acc*100:.2f}%')\n",
        "    print(f'\\t Val. Loss: {valid_loss:.3f} |  Val. Acc: {valid_acc*100:.2f}% \\n')"
      ],
      "execution_count": 144,
      "outputs": [
        {
          "output_type": "stream",
          "name": "stdout",
          "text": [
            "\tTrain Loss: 1.060 | Train Acc: 55.42%\n",
            "\t Val. Loss: 1.007 |  Val. Acc: 64.09% \n",
            "\n",
            "\tTrain Loss: 0.959 | Train Acc: 72.50%\n",
            "\t Val. Loss: 0.915 |  Val. Acc: 68.18% \n",
            "\n",
            "\tTrain Loss: 0.866 | Train Acc: 71.46%\n",
            "\t Val. Loss: 0.854 |  Val. Acc: 71.82% \n",
            "\n",
            "\tTrain Loss: 0.811 | Train Acc: 75.86%\n",
            "\t Val. Loss: 0.841 |  Val. Acc: 71.82% \n",
            "\n",
            "\tTrain Loss: 0.781 | Train Acc: 78.27%\n",
            "\t Val. Loss: 0.811 |  Val. Acc: 75.91% \n",
            "\n",
            "\tTrain Loss: 0.757 | Train Acc: 80.69%\n",
            "\t Val. Loss: 0.814 |  Val. Acc: 74.09% \n",
            "\n",
            "\tTrain Loss: 0.739 | Train Acc: 81.98%\n",
            "\t Val. Loss: 0.787 |  Val. Acc: 76.82% \n",
            "\n",
            "\tTrain Loss: 0.723 | Train Acc: 83.79%\n",
            "\t Val. Loss: 0.783 |  Val. Acc: 76.82% \n",
            "\n",
            "\tTrain Loss: 0.709 | Train Acc: 85.08%\n",
            "\t Val. Loss: 0.779 |  Val. Acc: 78.18% \n",
            "\n",
            "\tTrain Loss: 0.698 | Train Acc: 86.81%\n",
            "\t Val. Loss: 0.778 |  Val. Acc: 78.64% \n",
            "\n"
          ]
        }
      ]
    },
    {
      "cell_type": "markdown",
      "source": [
        "LSTM: \n",
        "\n",
        "Step 1 torch.Size([20, 26]) torch.Size([20, 26]) \n",
        "\n",
        "Step 2 torch.Size([20, 26, 300]) \n",
        "\n",
        "Step 3 torch.Size([506, 300]) \n",
        "\n",
        "Step 4 torch.Size([1, 20, 100]) \n",
        "\n",
        "Step 5 torch.Size([1, 20, 3]) \n",
        "\n",
        "Step 6 torch.Size([20, 3]) \n"
      ],
      "metadata": {
        "id": "aR3uHgOayQVf"
      }
    },
    {
      "cell_type": "markdown",
      "source": [
        "RNN: Underfitting 76:85  \n",
        "LSTM also shows similar result except for intial layers which start very low.   \n",
        "GRU & Bidirectional LSTM works best still having underfitting 79:86 & 79:87\n",
        " "
      ],
      "metadata": {
        "id": "jZX74LMIsk_F"
      }
    }
  ]
}